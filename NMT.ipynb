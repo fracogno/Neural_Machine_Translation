{
 "cells": [
  {
   "cell_type": "markdown",
   "metadata": {},
   "source": [
    "# Neural Machine Translation"
   ]
  },
  {
   "cell_type": "markdown",
   "metadata": {},
   "source": [
    "- Input is a sentence (sequence) in English \n",
    "- Output is the corresponding sequence in German\n",
    "- Encoder Decoder models with a Deep Bidirectional LSTM"
   ]
  },
  {
   "cell_type": "markdown",
   "metadata": {},
   "source": [
    "# TODO\n",
    "\n",
    "1. Implement attention\n",
    "2. Comment CODE!!\n",
    "\n",
    "TRAINING with BIGGER DATASET (so far trained only with 60 sentence and it was working)"
   ]
  },
  {
   "cell_type": "markdown",
   "metadata": {},
   "source": [
    "## Import needed libraries"
   ]
  },
  {
   "cell_type": "code",
   "execution_count": 1,
   "metadata": {},
   "outputs": [
    {
     "name": "stderr",
     "output_type": "stream",
     "text": [
      "/home/francesco/anaconda3/lib/python3.6/site-packages/h5py/__init__.py:36: FutureWarning: Conversion of the second argument of issubdtype from `float` to `np.floating` is deprecated. In future, it will be treated as `np.float64 == np.dtype(float).type`.\n",
      "  from ._conv import register_converters as _register_converters\n"
     ]
    }
   ],
   "source": [
    "import tensorflow as tf\n",
    "import numpy as np\n",
    "\n",
    "import src.text_processing as text_processing\n",
    "import src.dictionary as dictionary\n",
    "import src.neural_network as neural_network\n",
    "\n",
    "# Update python files\n",
    "%load_ext autoreload\n",
    "%autoreload 2"
   ]
  },
  {
   "cell_type": "markdown",
   "metadata": {},
   "source": [
    "## Data processing"
   ]
  },
  {
   "cell_type": "markdown",
   "metadata": {},
   "source": [
    "### Read dataset"
   ]
  },
  {
   "cell_type": "code",
   "execution_count": 2,
   "metadata": {},
   "outputs": [
    {
     "name": "stdout",
     "output_type": "stream",
     "text": [
      "(60,)\n",
      "['be', 'nice']\n",
      "['seien', 'sie', 'nett']\n"
     ]
    }
   ],
   "source": [
    "# Read file containing english and german translations\n",
    "data = text_processing.load_doc(\"./dataset/ENG_to_GER.txt\")\n",
    "\n",
    "# Split data into english and german\n",
    "english_sentences, german_sentences = text_processing.prepare_data(data)\n",
    "\n",
    "# Check and print number of sentences from one language to the other\n",
    "assert(len(english_sentences) == len(german_sentences))\n",
    "print(english_sentences.shape)\n",
    "\n",
    "# Example of sentence with translation\n",
    "print(english_sentences[55])\n",
    "print(german_sentences[55])"
   ]
  },
  {
   "cell_type": "markdown",
   "metadata": {},
   "source": [
    "### Split dataset (training + validation)"
   ]
  },
  {
   "cell_type": "code",
   "execution_count": 7,
   "metadata": {},
   "outputs": [
    {
     "name": "stdout",
     "output_type": "stream",
     "text": [
      "Training samples: 45\n",
      "Validation samples: 15\n"
     ]
    }
   ],
   "source": [
    "# Split percentage of training and validation\n",
    "split_percentage = 0.75\n",
    "\n",
    "# Count how many samples into training dataset\n",
    "total_dataset = len(english_sentences)\n",
    "train_dataset = int(total_dataset * split_percentage)\n",
    "\n",
    "# Set random seed to have always same training and validation split\n",
    "np.random.seed(42)\n",
    "train_indices = np.random.choice(total_dataset, train_dataset, replace=False)\n",
    "\n",
    "# Get training data for the two languages\n",
    "training_english = english_sentences[train_indices]\n",
    "training_german = german_sentences[train_indices]\n",
    "\n",
    "# Get validation data\n",
    "validation_english = np.delete(english_sentences, train_indices)\n",
    "validation_german = np.delete(german_sentences, train_indices)\n",
    "\n",
    "print(\"Training samples: \" + str(training_english.shape[0]))\n",
    "print(\"Validation samples: \" + str(validation_english.shape[0]))\n",
    "\n",
    "# Reset seed for randomness\n",
    "np.random.seed()"
   ]
  },
  {
   "cell_type": "markdown",
   "metadata": {},
   "source": [
    "### Create dictionaries for the two languages"
   ]
  },
  {
   "cell_type": "code",
   "execution_count": 8,
   "metadata": {},
   "outputs": [
    {
     "name": "stdout",
     "output_type": "stream",
     "text": [
      "Longest sentence in English has 3 tokens.\n",
      "Longest sentence in German has 6 tokens.\n",
      "\n",
      "English dictionary size: 40\n",
      "German dictionary size: 75\n"
     ]
    }
   ],
   "source": [
    "# Calculate longest sentence in the two languages\n",
    "english_max_length = text_processing.max_length_sentence(training_english)\n",
    "german_max_length = text_processing.max_length_sentence(training_german) + 1  # Plus one because I add <START> at the beginning\n",
    "\n",
    "print(\"Longest sentence in English has \" + str(english_max_length) + \" tokens.\")\n",
    "print(\"Longest sentence in German has \" + str(german_max_length) + \" tokens.\")\n",
    "print()\n",
    "\n",
    "# Create dictionaries\n",
    "english_dictionary = dictionary.LanguageDictionary(training_english, english_max_length)\n",
    "german_dictionary = dictionary.LanguageDictionary(training_german, german_max_length)\n",
    "\n",
    "# Calculate size of the dictionaries\n",
    "english_dictionary_size = len(english_dictionary.index_to_word)\n",
    "german_dictionary_size = len(german_dictionary.index_to_word)\n",
    "\n",
    "print(\"English dictionary size: \" + str(english_dictionary_size))\n",
    "print(\"German dictionary size: \" + str(german_dictionary_size))\n",
    "\n",
    "# Save dictionaries\n",
    "text_processing.save_dump(english_dictionary, \"./dumps/eng_dict.pickle\")\n",
    "text_processing.save_dump(german_dictionary, \"./dumps/ger_dict.pickle\")"
   ]
  },
  {
   "cell_type": "markdown",
   "metadata": {},
   "source": [
    "### Prepare sequences for the Neural Network"
   ]
  },
  {
   "cell_type": "code",
   "execution_count": 10,
   "metadata": {},
   "outputs": [
    {
     "name": "stdout",
     "output_type": "stream",
     "text": [
      "Training samples : 143\n",
      "(143, 3)\n",
      "(143, 6)\n",
      "(143,)\n",
      "Validation samples : 44\n",
      "(44, 3)\n",
      "(44, 6)\n",
      "(44,)\n"
     ]
    }
   ],
   "source": [
    "# Prepare sequences of training data\n",
    "train_source_input, train_target_input, train_target_output = text_processing.prepare_sequences(\n",
    "                                                                       training_english, \n",
    "                                                                       training_german, \n",
    "                                                                       english_dictionary, \n",
    "                                                                       german_dictionary)\n",
    "\n",
    "# Prepare sequences of validation data\n",
    "val_source_input, val_target_input, val_target_output = text_processing.prepare_sequences(\n",
    "                                                                       validation_english, \n",
    "                                                                       validation_german, \n",
    "                                                                       english_dictionary, \n",
    "                                                                       german_dictionary)\n",
    "\n",
    "# Check if same number of samples\n",
    "assert(len(train_source_input) == len(train_target_input) == len(train_target_output))\n",
    "assert(len(val_source_input) == len(val_target_input) == len(val_target_output))\n",
    "\n",
    "# Print shapes data\n",
    "print(\"Training samples : \" + str(len(train_source_input)))\n",
    "print(train_source_input.shape)\n",
    "print(train_target_input.shape)\n",
    "print(train_target_output.shape)\n",
    "\n",
    "print(\"Validation samples : \" + str(len(val_source_input)))\n",
    "print(val_source_input.shape)\n",
    "print(val_target_input.shape)\n",
    "print(val_target_output.shape)"
   ]
  },
  {
   "cell_type": "markdown",
   "metadata": {},
   "source": [
    "### Print sample input data in English, German and next word to be predicted in German"
   ]
  },
  {
   "cell_type": "code",
   "execution_count": 11,
   "metadata": {},
   "outputs": [
    {
     "name": "stdout",
     "output_type": "stream",
     "text": [
      "[22  0  0]\n",
      "[ 1 30  0  0  0  0]\n",
      "SOURCE => freeze <PAD> <PAD>\n",
      "TARGET => <START> stehenbleiben <PAD> <PAD> <PAD> <PAD>\n",
      "PREDICTED => <END>\n"
     ]
    }
   ],
   "source": [
    "sample_sentence_index = 49\n",
    "print(train_source_input[sample_sentence_index])\n",
    "print(train_target_input[sample_sentence_index])\n",
    "\n",
    "print(\"SOURCE => \" + english_dictionary.indices_to_text(train_source_input[sample_sentence_index]))\n",
    "print(\"TARGET => \" + german_dictionary.indices_to_text(train_target_input[sample_sentence_index]))\n",
    "print(\"PREDICTED => \" + german_dictionary.indices_to_text([train_target_output[sample_sentence_index]]))"
   ]
  },
  {
   "cell_type": "markdown",
   "metadata": {},
   "source": [
    "## Neural Network"
   ]
  },
  {
   "cell_type": "markdown",
   "metadata": {},
   "source": [
    "### Parameters"
   ]
  },
  {
   "cell_type": "code",
   "execution_count": 14,
   "metadata": {},
   "outputs": [],
   "source": [
    "epochs = 50\n",
    "batch_size = 64\n",
    "embedding_size = 300\n",
    "lstm_hidden_units = 256\n",
    "lr = 4e-4\n",
    "depth_lstm_bidirectional_layers = 3\n",
    "keep_dropout_prob = 0.7"
   ]
  },
  {
   "cell_type": "markdown",
   "metadata": {},
   "source": [
    "### Create model encoder-decoder with LSTM"
   ]
  },
  {
   "cell_type": "code",
   "execution_count": 15,
   "metadata": {},
   "outputs": [
    {
     "name": "stdout",
     "output_type": "stream",
     "text": [
      "Input sequence: [None, 3]\n",
      "Encoder embedding: [None, 3, 300]\n",
      "Encoder FW last_state: [None, 256]\n",
      "Decoder concatenated output: [None, 12, 256]\n",
      "Logits: [None, 75]\n"
     ]
    }
   ],
   "source": [
    "tf.reset_default_graph()\n",
    "\n",
    "# Placeholders\n",
    "input_sequence = tf.placeholder(tf.int32, (None, english_dictionary.max_length_sentence), 'inputs')\n",
    "output_sequence = tf.placeholder(tf.int32, (None, german_dictionary.max_length_sentence), 'output')\n",
    "target_labels = tf.placeholder(tf.int32, (None), 'targets')\n",
    "input_keep_prob = tf.placeholder(tf.float32, (None), 'dropout_input')\n",
    "output_keep_prob = tf.placeholder(tf.float32, (None), 'dropout_output')\n",
    "\n",
    "# Create graph for the network\n",
    "logits = neural_network.create_network(input_sequence, \n",
    "                                       output_sequence, \n",
    "                                       input_keep_prob,\n",
    "                                       output_keep_prob,\n",
    "                                       english_dictionary_size, \n",
    "                                       german_dictionary_size, \n",
    "                                       embedding_size,\n",
    "                                       lstm_hidden_units,\n",
    "                                       depth_lstm_bidirectional_layers,\n",
    "                                       verbose=1)"
   ]
  },
  {
   "cell_type": "markdown",
   "metadata": {},
   "source": [
    "### Set the loss function, optimizer and other useful tensors"
   ]
  },
  {
   "cell_type": "code",
   "execution_count": 16,
   "metadata": {},
   "outputs": [],
   "source": [
    "# Cross entropy loss after softmax of logits\n",
    "ce = tf.nn.sparse_softmax_cross_entropy_with_logits(logits=logits, labels=target_labels)\n",
    "loss = tf.reduce_mean(ce)\n",
    "\n",
    "# Using Adam (Adaptive learning rate + momentum) for the update of the weights of the network\n",
    "optimizer = tf.train.AdamOptimizer(learning_rate=lr).minimize(loss)\n",
    "\n",
    "# Useful tensors\n",
    "scores = tf.nn.softmax(logits)\n",
    "predictions = tf.to_int32(tf.argmax(scores, axis=1))\n",
    "correct_mask = tf.to_float(tf.equal(predictions, target_labels))\n",
    "accuracy = tf.reduce_mean(tf.cast(correct_mask, tf.float32))"
   ]
  },
  {
   "cell_type": "markdown",
   "metadata": {},
   "source": [
    "### Training of the network"
   ]
  },
  {
   "cell_type": "code",
   "execution_count": 17,
   "metadata": {
    "scrolled": true
   },
   "outputs": [
    {
     "name": "stdout",
     "output_type": "stream",
     "text": [
      "Training iterations per epoch: 2\n",
      "Training loss: 4.323658, accuracy: 0.0\n",
      "VALIDATION loss: 4.2501116, accuracy: 0.3181818\n",
      "Training loss: 4.2061777, accuracy: 0.265625\n",
      "Training loss: 3.9930282, accuracy: 0.34375\n",
      "Training loss: 3.684175, accuracy: 0.34375\n",
      "Training loss: 3.3601947, accuracy: 0.34375\n",
      "Training loss: 3.8282838, accuracy: 0.265625\n",
      "Training loss: 3.4937925, accuracy: 0.28125\n",
      "Training loss: 3.2583766, accuracy: 0.359375\n",
      "VALIDATION loss: 3.979183, accuracy: 0.36363637\n",
      "Training loss: 3.4002028, accuracy: 0.34375\n",
      "Training loss: 3.2220721, accuracy: 0.390625\n",
      "Training loss: 3.1680245, accuracy: 0.34375\n",
      "Training loss: 3.1470382, accuracy: 0.328125\n",
      "Training loss: 3.2125325, accuracy: 0.3125\n",
      "Training loss: 3.568695, accuracy: 0.265625\n",
      "Training loss: 3.1350296, accuracy: 0.34375\n",
      "Training loss: 2.9641955, accuracy: 0.390625\n",
      "Training loss: 2.9725895, accuracy: 0.34375\n",
      "Training loss: 2.761108, accuracy: 0.390625\n",
      "Training loss: 2.7690969, accuracy: 0.359375\n",
      "Training loss: 2.7762113, accuracy: 0.375\n",
      "Training loss: 2.3143477, accuracy: 0.46875\n",
      "Training loss: 2.4043365, accuracy: 0.390625\n",
      "Training loss: 2.390733, accuracy: 0.421875\n",
      "Training loss: 2.1409416, accuracy: 0.453125\n",
      "Training loss: 2.177454, accuracy: 0.453125\n",
      "VALIDATION loss: 4.3622437, accuracy: 0.38636363\n",
      "Training loss: 2.1583664, accuracy: 0.453125\n",
      "Training loss: 1.7665417, accuracy: 0.5625\n",
      "VALIDATION loss: 4.579344, accuracy: 0.4090909\n",
      "Training loss: 1.9864902, accuracy: 0.5\n",
      "Training loss: 1.7799361, accuracy: 0.5\n",
      "Training loss: 1.9351718, accuracy: 0.46875\n",
      "Training loss: 1.7047238, accuracy: 0.5\n",
      "Training loss: 1.6536472, accuracy: 0.578125\n",
      "Training loss: 1.4911076, accuracy: 0.5625\n",
      "Training loss: 1.4170401, accuracy: 0.5\n",
      "VALIDATION loss: 5.268419, accuracy: 0.4318182\n",
      "Training loss: 1.2828776, accuracy: 0.609375\n",
      "Training loss: 1.3581054, accuracy: 0.53125\n",
      "Training loss: 1.3088368, accuracy: 0.609375\n",
      "Training loss: 1.0646069, accuracy: 0.671875\n",
      "Training loss: 1.2380044, accuracy: 0.65625\n",
      "Training loss: 0.89011276, accuracy: 0.703125\n",
      "Training loss: 0.9479248, accuracy: 0.703125\n",
      "Training loss: 1.0223365, accuracy: 0.640625\n",
      "Training loss: 0.89366907, accuracy: 0.640625\n",
      "Training loss: 0.92683446, accuracy: 0.640625\n",
      "Training loss: 0.7700253, accuracy: 0.734375\n",
      "Training loss: 0.63525546, accuracy: 0.8125\n",
      "Training loss: 0.67708194, accuracy: 0.78125\n",
      "Training loss: 0.64545274, accuracy: 0.765625\n",
      "Training loss: 0.63522124, accuracy: 0.75\n",
      "Training loss: 0.65578145, accuracy: 0.765625\n"
     ]
    }
   ],
   "source": [
    "# Training data variables\n",
    "num_iterations_training = max(len(train_source_input) // batch_size, 1)\n",
    "print(\"Training iterations per epoch: \" + str(num_iterations_training))\n",
    "\n",
    "# Validation data variables\n",
    "max_val_acc = 0\n",
    "val_batch_size = 64\n",
    "num_iterations_validation = max(len(val_source_input) // val_batch_size, 1)\n",
    "\n",
    "# Initializer for variables in the graph\n",
    "init = tf.global_variables_initializer()\n",
    "saver = tf.train.Saver()\n",
    "\n",
    "# Perform each epoch, shuffle training dataset\n",
    "indices = list(range(len(train_source_input)))\n",
    "\n",
    "with tf.Session() as sess:\n",
    "    \n",
    "    # Initialize variables in the graph\n",
    "    sess.run(init)\n",
    "    \n",
    "    # Iterate over epochs\n",
    "    for i in range(epochs):\n",
    "        \n",
    "        # Shuffle indices with a random seed\n",
    "        np.random.seed(42)\n",
    "        np.random.shuffle(indices)\n",
    "        \n",
    "        # Shuffle data to not feed the network with always same sequence of data\n",
    "        train_source_input = train_source_input[indices]\n",
    "        train_target_input = train_target_input[indices]\n",
    "        train_target_output = train_target_output[indices]\n",
    "\n",
    "        # Iterate over mini-batches\n",
    "        for j in range(num_iterations_training):\n",
    "            start_index = j * batch_size\n",
    "            end_index = (j + 1) * batch_size\n",
    "\n",
    "            # Forward and backpropagation on training data\n",
    "            _, train_loss, train_acc = sess.run([optimizer, loss, accuracy], feed_dict={\n",
    "                                                            input_sequence: train_source_input[start_index:end_index],\n",
    "                                                            output_sequence: train_target_input[start_index:end_index],\n",
    "                                                            target_labels: train_target_output[start_index:end_index],\n",
    "                                                            input_keep_prob: keep_dropout_prob,\n",
    "                                                            output_keep_prob: keep_dropout_prob })\n",
    "            \n",
    "            # Print training loss and accuracy\n",
    "            if j % 100 == 0:\n",
    "                print(\"Training loss: \" + str(train_loss) + \", accuracy: \" + str(train_acc))\n",
    "\n",
    "                \n",
    "            # Check accuracy on validation \n",
    "            if j % 250 == 0:\n",
    "                \n",
    "                # Accumulate loss and accuracy\n",
    "                val_loss_arr, val_acc_arr = [], []\n",
    "                \n",
    "                # Iterate over validation mini-batches\n",
    "                for k in range(num_iterations_validation):\n",
    "                    start_index_val = k * val_batch_size\n",
    "                    end_index_val = (k + 1) * val_batch_size\n",
    "                    \n",
    "                    val_loss, val_acc = sess.run([loss, accuracy], feed_dict={\n",
    "                                            input_sequence: val_source_input[start_index_val:end_index_val],\n",
    "                                            output_sequence: val_target_input[start_index_val:end_index_val],\n",
    "                                            target_labels: val_target_output[start_index_val:end_index_val],\n",
    "                                            input_keep_prob: 1.0,\n",
    "                                            output_keep_prob: 1.0})\n",
    "                    \n",
    "                    val_loss_arr.append(val_loss)\n",
    "                    val_acc_arr.append(val_acc)\n",
    "\n",
    "                val_acc = np.mean(val_acc_arr)\n",
    "\n",
    "                # Save model if validation accuracy better\n",
    "                if val_acc > max_val_acc:\n",
    "                    max_val_acc = val_acc\n",
    "                    print(\"VALIDATION loss: \" + str(np.mean(val_loss_arr)) + \", accuracy: \" + str(val_acc))\n",
    "                    save_path = saver.save(sess, \"./checkpoints/model.ckpt\")\n"
   ]
  },
  {
   "cell_type": "markdown",
   "metadata": {},
   "source": [
    "## Testing network"
   ]
  },
  {
   "cell_type": "markdown",
   "metadata": {},
   "source": [
    "### Rebuild graph quickly if want to run only this part of the notebook"
   ]
  },
  {
   "cell_type": "code",
   "execution_count": 19,
   "metadata": {},
   "outputs": [
    {
     "name": "stdout",
     "output_type": "stream",
     "text": [
      "Input sequence: [None, 3]\n",
      "Encoder embedding: [None, 3, 300]\n",
      "Encoder FW last_state: [None, 256]\n",
      "Decoder concatenated output: [None, 12, 256]\n",
      "Logits: [None, 75]\n"
     ]
    }
   ],
   "source": [
    "# Parameters network\n",
    "#embedding_size = 300\n",
    "#lstm_neurons = 256\n",
    "\n",
    "# Load dictionaries from pickle\n",
    "english_dictionary = text_processing.load_dump(\"./dumps/eng_dict.pickle\")\n",
    "german_dictionary = text_processing.load_dump(\"./dumps/ger_dict.pickle\")\n",
    "\n",
    "tf.reset_default_graph()\n",
    "\n",
    "# Placeholders\n",
    "input_sequence = tf.placeholder(tf.int32, (None, english_dictionary.max_length_sentence), 'inputs')\n",
    "output_sequence = tf.placeholder(tf.int32, (None, german_dictionary.max_length_sentence), 'output')\n",
    "target_labels = tf.placeholder(tf.int32, (None), 'targets')\n",
    "input_keep_prob = tf.placeholder(tf.float32, (None), 'dropout_input')\n",
    "output_keep_prob = tf.placeholder(tf.float32, (None), 'dropout_output')\n",
    "\n",
    "# Create graph for the network\n",
    "logits = neural_network.create_network(input_sequence, \n",
    "                                       output_sequence, \n",
    "                                       input_keep_prob,\n",
    "                                       output_keep_prob,\n",
    "                                       len(english_dictionary.index_to_word), \n",
    "                                       len(german_dictionary.index_to_word), \n",
    "                                       embedding_size,\n",
    "                                       lstm_hidden_units,\n",
    "                                       depth_lstm_bidirectional_layers,\n",
    "                                       verbose=1)\n",
    "# Predictions\n",
    "scores = tf.nn.softmax(logits)\n",
    "max_score = tf.reduce_max(scores)\n",
    "predictions = tf.to_int32(tf.argmax(scores, axis=1))"
   ]
  },
  {
   "cell_type": "markdown",
   "metadata": {},
   "source": [
    "### Perform test predictions"
   ]
  },
  {
   "cell_type": "code",
   "execution_count": 23,
   "metadata": {},
   "outputs": [
    {
     "name": "stdout",
     "output_type": "stream",
     "text": [
      "INFO:tensorflow:Restoring parameters from ./checkpoints/model.ckpt\n",
      "[4 0 0]\n",
      "hi <PAD> <PAD>\n",
      "hallo 0.08588736\n",
      "<END> 0.8976733\n",
      "hi => <START> hallo <END>\n"
     ]
    }
   ],
   "source": [
    "# TF variables\n",
    "init = tf.global_variables_initializer()\n",
    "saver = tf.train.Saver()\n",
    "\n",
    "with tf.Session() as sess:\n",
    "    sess.run(init)\n",
    "    saver.restore(sess, \"./checkpoints/model.ckpt\") \n",
    "\n",
    "    test_source_sentence = [\"hi\"]\n",
    "\n",
    "    for source_sentence in test_source_sentence:\n",
    "\n",
    "        # Normalize & tokenize (cut if longer than max_length_source)  \n",
    "        source_preprocessed = text_processing.preprocess_sentence(source_sentence)[:english_dictionary.max_length_sentence]\n",
    "       \n",
    "        # Convert to numbers\n",
    "        source_encoded = english_dictionary.text_to_indices(source_preprocessed)\n",
    "        \n",
    "        # Add padding\n",
    "        source_input = text_processing.pad_sentence(source_encoded, english_dictionary.max_length_sentence)\n",
    "\n",
    "        print(source_input)\n",
    "        print(english_dictionary.indices_to_text(source_input))\n",
    "\n",
    "        # Starting target sentence in German\n",
    "        target_sentence = [[\"<START>\"]]\n",
    "        target_encoded = german_dictionary.text_to_indices(target_sentence[0])\n",
    "\n",
    "        # Predict words and append to previous one until \"<END>\" is predicted\n",
    "        for i in range(german_dictionary.max_length_sentence):    \n",
    "            # Pad\n",
    "            target_input = text_processing.pad_sentence(target_encoded, german_dictionary.max_length_sentence)\n",
    "            \n",
    "            # Perform prediction\n",
    "            pred, prob_argmax = sess.run([predictions, max_score], feed_dict={ input_sequence: [source_input], \n",
    "                                                                            output_sequence: [target_input],\n",
    "                                                                            input_keep_prob: 1.0,\n",
    "                                                                            output_keep_prob: 1.0 })\n",
    "            target_encoded.append(pred[0])\n",
    "            print(german_dictionary.indices_to_text(pred) + \" \" + str(prob_argmax))\n",
    "\n",
    "            if pred[0] == 2: # If <END>, stop\n",
    "                break\n",
    "\n",
    "        print(\" \".join(source_preprocessed) + \" => \" + german_dictionary.indices_to_text(target_encoded))"
   ]
  }
 ],
 "metadata": {
  "kernelspec": {
   "display_name": "Python 3",
   "language": "python",
   "name": "python3"
  },
  "language_info": {
   "codemirror_mode": {
    "name": "ipython",
    "version": 3
   },
   "file_extension": ".py",
   "mimetype": "text/x-python",
   "name": "python",
   "nbconvert_exporter": "python",
   "pygments_lexer": "ipython3",
   "version": "3.6.4"
  }
 },
 "nbformat": 4,
 "nbformat_minor": 2
}
