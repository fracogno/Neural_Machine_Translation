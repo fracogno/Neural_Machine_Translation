{
 "cells": [
  {
   "cell_type": "markdown",
   "metadata": {},
   "source": [
    "# Neural Machine Translation"
   ]
  },
  {
   "cell_type": "markdown",
   "metadata": {},
   "source": [
    "- Input is a sentence (sequence) in English \n",
    "- Output is the corresponding sequence in German\n",
    "- Encoder Decoder model with a Bidirectional GRU Encoder, Attention and GRU Decoder"
   ]
  },
  {
   "cell_type": "markdown",
   "metadata": {},
   "source": [
    "## Import needed libraries"
   ]
  },
  {
   "cell_type": "code",
   "execution_count": 2,
   "metadata": {},
   "outputs": [
    {
     "name": "stdout",
     "output_type": "stream",
     "text": [
      "The autoreload extension is already loaded. To reload it, use:\n",
      "  %reload_ext autoreload\n"
     ]
    }
   ],
   "source": [
    "import tensorflow as tf\n",
    "import numpy as np\n",
    "\n",
    "# Import local libraries\n",
    "import src.text_processing as text_processing\n",
    "import src.dictionary as dictionary\n",
    "import src.neural_network as neural_network\n",
    "\n",
    "# Update python files\n",
    "%load_ext autoreload\n",
    "%autoreload 2"
   ]
  },
  {
   "cell_type": "markdown",
   "metadata": {},
   "source": [
    "## Data processing"
   ]
  },
  {
   "cell_type": "markdown",
   "metadata": {},
   "source": [
    "### Read dataset"
   ]
  },
  {
   "cell_type": "code",
   "execution_count": 3,
   "metadata": {
    "scrolled": true
   },
   "outputs": [
    {
     "name": "stdout",
     "output_type": "stream",
     "text": [
      "(100000,)\n",
      "['i', 'lost']\n",
      "['ich', 'habe', 'verloren']\n"
     ]
    }
   ],
   "source": [
    "# Read file containing english and german translations\n",
    "data = text_processing.load_doc(\"./dataset/ENG_to_GER.txt\")\n",
    "\n",
    "# Split data into english and german\n",
    "english_sentences, german_sentences = text_processing.prepare_data(data)\n",
    "\n",
    "# Check and print number of sentences from one language to the other\n",
    "assert(len(english_sentences) == len(german_sentences))\n",
    "print(english_sentences.shape)\n",
    "\n",
    "# Example of sentence with translation\n",
    "print(english_sentences[20])\n",
    "print(german_sentences[20])"
   ]
  },
  {
   "cell_type": "markdown",
   "metadata": {},
   "source": [
    "### Split dataset (training + validation)"
   ]
  },
  {
   "cell_type": "code",
   "execution_count": 4,
   "metadata": {},
   "outputs": [
    {
     "name": "stdout",
     "output_type": "stream",
     "text": [
      "Training samples: 85000\n",
      "Validation samples: 15000\n"
     ]
    }
   ],
   "source": [
    "# Split percentage of training and validation\n",
    "split_percentage = 0.85\n",
    "\n",
    "# Count how many samples into training dataset\n",
    "total_dataset = len(english_sentences)\n",
    "train_dataset = int(total_dataset * split_percentage)\n",
    "\n",
    "# Set random seed to have always same training and validation split\n",
    "np.random.seed(42)\n",
    "train_indices = np.random.choice(total_dataset, train_dataset, replace=False)\n",
    "\n",
    "# Get training data for the two languages\n",
    "training_english = english_sentences[train_indices]\n",
    "training_german = german_sentences[train_indices]\n",
    "\n",
    "# Get validation data\n",
    "validation_english = np.delete(english_sentences, train_indices)\n",
    "validation_german = np.delete(german_sentences, train_indices)\n",
    "\n",
    "print(\"Training samples: \" + str(training_english.shape[0]))\n",
    "print(\"Validation samples: \" + str(validation_english.shape[0]))"
   ]
  },
  {
   "cell_type": "markdown",
   "metadata": {},
   "source": [
    "### Create dictionaries for the two languages"
   ]
  },
  {
   "cell_type": "code",
   "execution_count": 5,
   "metadata": {},
   "outputs": [
    {
     "name": "stdout",
     "output_type": "stream",
     "text": [
      "Longest sentence in English has 15 tokens.\n",
      "Longest sentence in German has 17 tokens.\n",
      "\n",
      "English dictionary size: 11587\n",
      "German dictionary size: 20897\n"
     ]
    }
   ],
   "source": [
    "# Calculate longest sentence in the two languages\n",
    "english_max_length = text_processing.max_length_sentence(training_english)\n",
    "german_max_length = text_processing.max_length_sentence(training_german) + 2  # + 2 because of <START> and <END> the beginning\n",
    "\n",
    "print(\"Longest sentence in English has \" + str(english_max_length) + \" tokens.\")\n",
    "print(\"Longest sentence in German has \" + str(german_max_length) + \" tokens.\")\n",
    "print()\n",
    "\n",
    "# Create dictionaries\n",
    "english_dictionary = dictionary.LanguageDictionary(training_english, english_max_length)\n",
    "german_dictionary = dictionary.LanguageDictionary(training_german, german_max_length)\n",
    "\n",
    "# Calculate size of the dictionaries\n",
    "english_dictionary_size = len(english_dictionary.index_to_word)\n",
    "german_dictionary_size = len(german_dictionary.index_to_word)\n",
    "\n",
    "print(\"English dictionary size: \" + str(english_dictionary_size))\n",
    "print(\"German dictionary size: \" + str(german_dictionary_size))\n",
    "\n",
    "# Save dictionaries\n",
    "text_processing.save_dump(english_dictionary, \"./dumps/eng_dict.pickle\")\n",
    "text_processing.save_dump(german_dictionary, \"./dumps/ger_dict.pickle\")"
   ]
  },
  {
   "cell_type": "markdown",
   "metadata": {},
   "source": [
    "### Prepare sequences for the Neural Network"
   ]
  },
  {
   "cell_type": "code",
   "execution_count": 6,
   "metadata": {},
   "outputs": [
    {
     "name": "stdout",
     "output_type": "stream",
     "text": [
      "Training samples : 85000\n",
      "(85000, 15)\n",
      "(85000, 17)\n",
      "Validation samples : 15000\n",
      "(15000, 15)\n",
      "(15000, 17)\n"
     ]
    }
   ],
   "source": [
    "# Prepare sequences of training data\n",
    "train_source_input, train_target_input = text_processing.prepare_sequences(training_english, \n",
    "                                                                       training_german, \n",
    "                                                                       english_dictionary, \n",
    "                                                                       german_dictionary)\n",
    "\n",
    "# Prepare sequences of validation data\n",
    "val_source_input, val_target_input = text_processing.prepare_sequences(validation_english, \n",
    "                                                                       validation_german, \n",
    "                                                                       english_dictionary, \n",
    "                                                                       german_dictionary)\n",
    "\n",
    "# Check if same number of samples\n",
    "assert(len(train_source_input) == len(train_target_input))\n",
    "assert(len(val_source_input) == len(val_target_input))\n",
    "\n",
    "# Print shapes data\n",
    "print(\"Training samples : \" + str(len(train_source_input)))\n",
    "print(train_source_input.shape)\n",
    "print(train_target_input.shape)\n",
    "\n",
    "print(\"Validation samples : \" + str(len(val_source_input)))\n",
    "print(val_source_input.shape)\n",
    "print(val_target_input.shape)"
   ]
  },
  {
   "cell_type": "markdown",
   "metadata": {},
   "source": [
    "### Print sample input data in English, German and next word to be predicted in German"
   ]
  },
  {
   "cell_type": "code",
   "execution_count": 25,
   "metadata": {},
   "outputs": [
    {
     "name": "stdout",
     "output_type": "stream",
     "text": [
      "[ 0  0  0  0  0  0  0  4  5  6  7  8  9 10 11]\n",
      "[1 4 5 6 7 8 9 2 0 0 0 0 0 0 0 0 0]\n",
      "SOURCE => <PAD> <PAD> <PAD> <PAD> <PAD> <PAD> <PAD> tom is parents have a lot of money\n",
      "TARGET => <START> toms eltern haben jede menge geld <END> <PAD> <PAD> <PAD> <PAD> <PAD> <PAD> <PAD> <PAD> <PAD>\n"
     ]
    }
   ],
   "source": [
    "print(train_source_input[0])\n",
    "print(train_target_input[0])\n",
    "\n",
    "print(\"SOURCE => \" + english_dictionary.indices_to_text(train_source_input[0]))\n",
    "print(\"TARGET => \" + german_dictionary.indices_to_text(train_target_input[0]))"
   ]
  },
  {
   "cell_type": "markdown",
   "metadata": {},
   "source": [
    "## Neural Network"
   ]
  },
  {
   "cell_type": "markdown",
   "metadata": {},
   "source": [
    "### Parameters"
   ]
  },
  {
   "cell_type": "code",
   "execution_count": 26,
   "metadata": {},
   "outputs": [],
   "source": [
    "epochs = 200\n",
    "batch_size = 128\n",
    "embedding_size = 256\n",
    "lstm_hidden_units = 192\n",
    "lr = 1e-3\n",
    "keep_dropout_prob = 0.7"
   ]
  },
  {
   "cell_type": "markdown",
   "metadata": {},
   "source": [
    "### Create Seq2seq neural network graph"
   ]
  },
  {
   "cell_type": "code",
   "execution_count": 27,
   "metadata": {},
   "outputs": [
    {
     "name": "stdout",
     "output_type": "stream",
     "text": [
      "Previous decoder outputs:  Tensor(\"decoder/ExpandDims:0\", shape=(?, 16, 1, 384), dtype=float32)\n",
      "Bahdanau score:  Tensor(\"decoder/dense_2/BiasAdd:0\", shape=(?, 16, 15, 1), dtype=float32)\n",
      "Attention weights:  Tensor(\"decoder/transpose_1:0\", shape=(?, 16, 15, 1), dtype=float32)\n",
      "Context vector:  Tensor(\"decoder/Sum:0\", shape=(?, 16, 384), dtype=float32)\n",
      "Embedding layer:  Tensor(\"decoder/embedding_lookup/Identity:0\", shape=(?, ?, 256), dtype=float32)\n",
      "Decoder input:  Tensor(\"decoder/concat_2:0\", shape=(?, 16, 640), dtype=float32)\n",
      "Logits: Tensor(\"dense/BiasAdd:0\", shape=(?, 16, 20897), dtype=float32)\n"
     ]
    }
   ],
   "source": [
    "tf.reset_default_graph()\n",
    "\n",
    "# Placeholders\n",
    "input_sequence = tf.placeholder(tf.int32, (None, english_dictionary.max_length_sentence), 'inputs')\n",
    "output_sequence = tf.placeholder(tf.int32, (None, None), 'output')\n",
    "target_labels = tf.placeholder(tf.int32, (None, None), 'targets')\n",
    "keep_prob = tf.placeholder(tf.float32, (None), 'dropout_prob')\n",
    "decoder_outputs_tensor = tf.placeholder(tf.float32, (None, german_dictionary.max_length_sentence - 1, \n",
    "                                                     lstm_hidden_units * 2), 'output')\n",
    "\n",
    "# Create graph for the network\n",
    "logits, dec_output, mask = neural_network.create_network(input_sequence, \n",
    "                                                         output_sequence, \n",
    "                                                         keep_prob,\n",
    "                                                         decoder_outputs_tensor,\n",
    "                                                         english_dictionary_size, \n",
    "                                                         german_dictionary_size, \n",
    "                                                         embedding_size,\n",
    "                                                         lstm_hidden_units)"
   ]
  },
  {
   "cell_type": "markdown",
   "metadata": {},
   "source": [
    "### Set the loss function, optimizer and other useful tensors"
   ]
  },
  {
   "cell_type": "code",
   "execution_count": 50,
   "metadata": {},
   "outputs": [],
   "source": [
    "# Cross entropy loss after softmax of logits\n",
    "ce = tf.nn.sparse_softmax_cross_entropy_with_logits(logits=logits, labels=target_labels) * mask\n",
    "loss = tf.reduce_mean(ce)\n",
    "\n",
    "# Using Adam optimizer for the update of the weights of the network with gradient clipping\n",
    "optimizer = tf.train.AdamOptimizer(learning_rate=lr) #.minimize(loss)\n",
    "gradients, variables = zip(*optimizer.compute_gradients(loss))\n",
    "gradients, _ = tf.clip_by_global_norm(gradients, 5.0)\n",
    "optimize = optimizer.apply_gradients(zip(gradients, variables))\n",
    "\n",
    "# Useful tensors\n",
    "scores = tf.nn.softmax(logits)\n",
    "predictions = tf.to_int32(tf.argmax(scores, axis=2))\n",
    "correct_mask = tf.to_float(tf.equal(predictions, target_labels))\n",
    "accuracy = tf.contrib.metrics.accuracy(predictions, target_labels, weights=mask)"
   ]
  },
  {
   "cell_type": "markdown",
   "metadata": {},
   "source": [
    "### Training of the network"
   ]
  },
  {
   "cell_type": "code",
   "execution_count": 69,
   "metadata": {
    "scrolled": true
   },
   "outputs": [
    {
     "name": "stdout",
     "output_type": "stream",
     "text": [
      "Number of iterations per epoch: 665\n",
      "INFO:tensorflow:Restoring parameters from ./checkpoints/model.ckpt\n",
      "VALIDATION loss: 0.82717645, accuracy: 0.73835766\n",
      "Epoch: 1, AVG loss: 0.39362738, AVG accuracy: 0.7968743\n",
      "\n",
      "VALIDATION loss: 0.82658976, accuracy: 0.73905164\n",
      "VALIDATION loss: 0.82674766, accuracy: 0.739707\n",
      "Epoch: 2, AVG loss: 0.3816911, AVG accuracy: 0.80143833\n",
      "\n",
      "VALIDATION loss: 0.8305219, accuracy: 0.7413954\n",
      "Epoch: 3, AVG loss: 0.37092778, AVG accuracy: 0.8063655\n",
      "\n",
      "VALIDATION loss: 0.8336492, accuracy: 0.741549\n",
      "VALIDATION loss: 0.8280896, accuracy: 0.74203044\n",
      "Epoch: 4, AVG loss: 0.36125374, AVG accuracy: 0.80996794\n",
      "\n",
      "VALIDATION loss: 0.83230466, accuracy: 0.7422639\n",
      "VALIDATION loss: 0.82923895, accuracy: 0.7441072\n",
      "Epoch: 5, AVG loss: 0.3524709, AVG accuracy: 0.8137857\n",
      "\n",
      "Epoch: 6, AVG loss: 0.34542027, AVG accuracy: 0.81550807\n",
      "\n",
      "VALIDATION loss: 0.83227813, accuracy: 0.7454422\n",
      "Epoch: 7, AVG loss: 0.33784592, AVG accuracy: 0.8193833\n",
      "\n",
      "VALIDATION loss: 0.83780986, accuracy: 0.7458219\n",
      "VALIDATION loss: 0.83509284, accuracy: 0.7463925\n",
      "Epoch: 8, AVG loss: 0.32947293, AVG accuracy: 0.8225001\n",
      "\n",
      "Epoch: 9, AVG loss: 0.3241602, AVG accuracy: 0.82518923\n",
      "\n"
     ]
    }
   ],
   "source": [
    "# Training and validation data variables\n",
    "training_overfit = False\n",
    "best_val_accuracy = 0\n",
    "consecutive_validation_without_saving = 0\n",
    "indices = list(range(len(train_source_input)))\n",
    "print(\"Number of iterations per epoch: \" + str((len(train_source_input) // batch_size) + 1))\n",
    "\n",
    "# Start session and initialize variables in the graph\n",
    "with tf.Session() as sess:    \n",
    "    \n",
    "    saver = tf.train.Saver()\n",
    "    sess.run(tf.global_variables_initializer())\n",
    "    \n",
    "    for i in range(epochs):\n",
    "        \n",
    "        # Vector accumulating accuracy and loss during one epoch\n",
    "        total_accuracies, total_losses = [], []\n",
    "        \n",
    "        # Shuffle data to not train the network always with the same order\n",
    "        np.random.shuffle(indices)\n",
    "        train_source_input = train_source_input[indices]\n",
    "        train_target_input = train_target_input[indices]        \n",
    "        \n",
    "        # Iterate over mini-batches\n",
    "        for j in range(0, len(train_source_input), batch_size):\n",
    "\n",
    "            dec_out_tmp = neural_network.get_decoder_outputs(sess, dec_output, input_sequence, output_sequence,\n",
    "                        decoder_outputs_tensor, keep_prob, keep_dropout_prob, \n",
    "                        len(train_source_input[j:j+batch_size]), german_dictionary.max_length_sentence - 1, \n",
    "                        lstm_hidden_units, train_source_input[j:j+batch_size],\n",
    "                        train_target_input[j:j+batch_size, :-1])\n",
    "            \n",
    "            _, avg_accuracy, avg_loss = sess.run([optimize, accuracy, loss], feed_dict={\n",
    "                                                input_sequence: train_source_input[j:j+batch_size],\n",
    "                                                output_sequence: train_target_input[j:j+batch_size, :-1],\n",
    "                                                target_labels: train_target_input[j:j+batch_size, 1:],\n",
    "                                                keep_prob: keep_dropout_prob,\n",
    "                                                decoder_outputs_tensor: dec_out_tmp })\n",
    "            \n",
    "            # Add values for this mini-batch iterations\n",
    "            total_losses.append(avg_loss) \n",
    "            total_accuracies.append(avg_accuracy)\n",
    "            \n",
    "            # Statistics on validation set\n",
    "            if (j // batch_size + 1) % 250 == 0:\n",
    "\n",
    "                # Accumulate validation statistics\n",
    "                val_accuracies, val_losses = [], []\n",
    "                for k in range(0, len(val_source_input), batch_size):\n",
    "\n",
    "                    dec_out_tmp = neural_network.get_decoder_outputs(sess, dec_output, input_sequence,\n",
    "                        output_sequence, decoder_outputs_tensor, keep_prob, 1.0,\n",
    "                        len(val_source_input[k:k+batch_size]), german_dictionary.max_length_sentence - 1, \n",
    "                        lstm_hidden_units, val_source_input[k:k+batch_size], val_target_input[k:k+batch_size, :-1])\n",
    "                    \n",
    "                    avg_accuracy, avg_loss = sess.run([accuracy, loss], feed_dict={\n",
    "                                            input_sequence: val_source_input[k:k+batch_size],\n",
    "                                            output_sequence: val_target_input[k:k+batch_size, :-1],\n",
    "                                            target_labels: val_target_input[k:k+batch_size, 1:],\n",
    "                                            keep_prob: 1.0,\n",
    "                                            decoder_outputs_tensor: dec_out_tmp })                    \n",
    "                    \n",
    "                    val_losses.append(avg_loss) \n",
    "                    val_accuracies.append(avg_accuracy)\n",
    "            \n",
    "                # Average validation accuracy over batches\n",
    "                final_val_accuracy = np.mean(val_accuracies)\n",
    "                \n",
    "                # Save model if validation accuracy better\n",
    "                if final_val_accuracy > best_val_accuracy:\n",
    "                    consecutive_validation_without_saving = 0\n",
    "                    best_val_accuracy = final_val_accuracy\n",
    "                    print(\"VALIDATION loss: \" + str(np.mean(val_losses)) + \", accuracy: \" + str(final_val_accuracy))\n",
    "                    save_path = saver.save(sess, \"./checkpoints/model.ckpt\")\n",
    "                else:\n",
    "                    # Count every time check validation accuracy\n",
    "                    consecutive_validation_without_saving += 1\n",
    "                \n",
    "                # If checked validation time many consecutive times without having improvement in accuracy\n",
    "                if consecutive_validation_without_saving >= 10:\n",
    "                    training_overfit = True\n",
    "                    break\n",
    "        \n",
    "        # Epoch statistics\n",
    "        print(\"Epoch: \" + str(i+1) + \", AVG loss: \" + str(np.mean(np.array(total_losses))) + \n",
    "              \", AVG accuracy: \" + str(np.mean(np.array(total_accuracies))) + \"\\n\")\n",
    "        \n",
    "        if training_overfit:\n",
    "            print(\"Early stopping\")\n",
    "            break"
   ]
  },
  {
   "cell_type": "markdown",
   "metadata": {},
   "source": [
    "## Testing network"
   ]
  },
  {
   "cell_type": "markdown",
   "metadata": {},
   "source": [
    "### Rebuild graph quickly if want to run only this part of the notebook"
   ]
  },
  {
   "cell_type": "code",
   "execution_count": 29,
   "metadata": {},
   "outputs": [
    {
     "name": "stdout",
     "output_type": "stream",
     "text": [
      "Previous decoder outputs:  Tensor(\"decoder/ExpandDims:0\", shape=(?, 16, 1, 384), dtype=float32)\n",
      "Bahdanau score:  Tensor(\"decoder/dense_2/BiasAdd:0\", shape=(?, 16, 15, 1), dtype=float32)\n",
      "Attention weights:  Tensor(\"decoder/transpose_1:0\", shape=(?, 16, 15, 1), dtype=float32)\n",
      "Context vector:  Tensor(\"decoder/Sum:0\", shape=(?, 16, 384), dtype=float32)\n",
      "Embedding layer:  Tensor(\"decoder/embedding_lookup/Identity:0\", shape=(?, ?, 256), dtype=float32)\n",
      "Decoder input:  Tensor(\"decoder/concat_2:0\", shape=(?, 16, 640), dtype=float32)\n",
      "Logits: Tensor(\"dense/BiasAdd:0\", shape=(?, 16, 20897), dtype=float32)\n"
     ]
    }
   ],
   "source": [
    "# Load dictionaries from pickle\n",
    "english_dictionary = text_processing.load_dump(\"./dumps/eng_dict.pickle\")\n",
    "german_dictionary = text_processing.load_dump(\"./dumps/ger_dict.pickle\")\n",
    "\n",
    "tf.reset_default_graph()\n",
    "\n",
    "embedding_size = 256\n",
    "lstm_hidden_units = 192\n",
    "\n",
    "# Placeholders\n",
    "input_sequence = tf.placeholder(tf.int32, (None, english_dictionary.max_length_sentence), 'inputs')\n",
    "output_sequence = tf.placeholder(tf.int32, (None, None), 'output')\n",
    "target_labels = tf.placeholder(tf.int32, (None, None), 'targets')\n",
    "keep_prob = tf.placeholder(tf.float32, (None), 'dropout_prob')\n",
    "decoder_outputs_tensor = tf.placeholder(tf.float32, (None, german_dictionary.max_length_sentence - 1, \n",
    "                                                     lstm_hidden_units * 2), 'output')\n",
    "\n",
    "# Create graph for the network\n",
    "logits, dec_output, mask = neural_network.create_network(input_sequence, \n",
    "                                                         output_sequence, \n",
    "                                                         keep_prob,\n",
    "                                                         decoder_outputs_tensor,\n",
    "                                                         len(english_dictionary.index_to_word), \n",
    "                                                         len(german_dictionary.index_to_word), \n",
    "                                                         embedding_size,\n",
    "                                                         lstm_hidden_units)\n",
    "# Predictions\n",
    "scores = tf.nn.softmax(logits)\n",
    "predictions = tf.to_int32(tf.argmax(scores, axis=2))"
   ]
  },
  {
   "cell_type": "markdown",
   "metadata": {},
   "source": [
    "### Perform test predictions"
   ]
  },
  {
   "cell_type": "code",
   "execution_count": 33,
   "metadata": {
    "scrolled": false
   },
   "outputs": [
    {
     "name": "stdout",
     "output_type": "stream",
     "text": [
      "INFO:tensorflow:Restoring parameters from ./checkpoints/model.ckpt\n",
      "<PAD> <PAD> <PAD> <PAD> <PAD> <PAD> <PAD> <PAD> i am trying to translate some sentences => <START> ich versuche nur ein paar unerwartete obst zu haben <END>\n"
     ]
    }
   ],
   "source": [
    "with tf.Session() as sess:\n",
    "    saver = tf.train.Saver()\n",
    "    sess.run(tf.global_variables_initializer())\n",
    "    saver.restore(sess, \"./checkpoints/model.ckpt\") \n",
    "\n",
    "    test_source_sentence = [\"I am trying to translate some sentences\"]\n",
    "\n",
    "    for source_sentence in test_source_sentence:\n",
    "        \n",
    "        # Normalize & tokenize (cut if longer than max_length_source)  \n",
    "        source_preprocessed = text_processing.preprocess_sentence(source_sentence)\n",
    "        \n",
    "        # Convert to numbers\n",
    "        source_encoded = english_dictionary.text_to_indices(source_preprocessed)\n",
    "        \n",
    "        # Add padding\n",
    "        source_input = text_processing.pad_sentence(source_encoded, english_dictionary.max_length_sentence)\n",
    "        \n",
    "        # Starting target sentence in German\n",
    "        target_sentence = [[\"<START>\"]]\n",
    "        target_encoded = german_dictionary.text_to_indices(target_sentence[0])\n",
    "\n",
    "        i = 0\n",
    "        word_predicted = 0\n",
    "        while word_predicted != 2: # If <END> (index 2), stop\n",
    "            \n",
    "            target_encoded_pad = text_processing.pad_sentence(target_encoded, \n",
    "                                                          german_dictionary.max_length_sentence - 1, \n",
    "                                                           pad_before=False)\n",
    "            \n",
    "            dec_out_tmp = neural_network.get_decoder_outputs(\n",
    "                                                            sess,\n",
    "                                                            dec_output,\n",
    "                                                            input_sequence,\n",
    "                                                            output_sequence,\n",
    "                                                            decoder_outputs_tensor,\n",
    "                                                            keep_prob,\n",
    "                                                            1.0,\n",
    "                                                            1, \n",
    "                                                            german_dictionary.max_length_sentence - 1, \n",
    "                                                            lstm_hidden_units,\n",
    "                                                            [source_input],\n",
    "                                                            [target_encoded_pad])        \n",
    "            # Perform prediction\n",
    "            pred = sess.run(predictions, feed_dict={ input_sequence: [source_input], \n",
    "                                                    output_sequence: [target_encoded_pad],\n",
    "                                                    keep_prob: 1.0,\n",
    "                                                    decoder_outputs_tensor: dec_out_tmp })\n",
    "            \n",
    "            # Accumulate\n",
    "            target_encoded.append(pred[0][i])\n",
    "            word_predicted = pred[0][i]\n",
    "            \n",
    "            if i > german_dictionary.max_length_sentence:\n",
    "                break\n",
    "            i += 1\n",
    "\n",
    "        print(english_dictionary.indices_to_text(source_input) + \" => \"\n",
    "              + german_dictionary.indices_to_text(target_encoded))"
   ]
  }
 ],
 "metadata": {
  "kernelspec": {
   "display_name": "Python 3",
   "language": "python",
   "name": "python3"
  },
  "language_info": {
   "codemirror_mode": {
    "name": "ipython",
    "version": 3
   },
   "file_extension": ".py",
   "mimetype": "text/x-python",
   "name": "python",
   "nbconvert_exporter": "python",
   "pygments_lexer": "ipython3",
   "version": "3.6.4"
  }
 },
 "nbformat": 4,
 "nbformat_minor": 2
}
