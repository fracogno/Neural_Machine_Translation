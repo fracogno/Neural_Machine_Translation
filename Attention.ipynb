{
 "cells": [
  {
   "cell_type": "markdown",
   "metadata": {},
   "source": [
    "# Neural Machine Translation"
   ]
  },
  {
   "cell_type": "markdown",
   "metadata": {},
   "source": [
    "- Input is a sentence (sequence) in English \n",
    "- Output is the corresponding sequence in German\n",
    "- Encoder Decoder models with a Deep Bidirectional LSTM"
   ]
  },
  {
   "cell_type": "markdown",
   "metadata": {},
   "source": [
    "# TODO\n",
    "\n",
    "1. Implement attention\n",
    "2. Gradient clipping\n",
    "2. Comment CODE!!\n",
    "4. GRU CELL\n",
    "\n",
    "TRAINING with BIGGER DATASET (so far trained only with 60 sentence and it was working)"
   ]
  },
  {
   "cell_type": "markdown",
   "metadata": {},
   "source": [
    "## Import needed libraries"
   ]
  },
  {
   "cell_type": "code",
   "execution_count": 81,
   "metadata": {},
   "outputs": [
    {
     "name": "stdout",
     "output_type": "stream",
     "text": [
      "The autoreload extension is already loaded. To reload it, use:\n",
      "  %reload_ext autoreload\n"
     ]
    }
   ],
   "source": [
    "import tensorflow as tf\n",
    "import numpy as np\n",
    "\n",
    "import src.text_processing as text_processing\n",
    "import src.dictionary as dictionary\n",
    "import src.neural_network as neural_network\n",
    "\n",
    "# Update python files\n",
    "%load_ext autoreload\n",
    "%autoreload 2"
   ]
  },
  {
   "cell_type": "markdown",
   "metadata": {},
   "source": [
    "## Data processing"
   ]
  },
  {
   "cell_type": "markdown",
   "metadata": {},
   "source": [
    "### Read dataset"
   ]
  },
  {
   "cell_type": "code",
   "execution_count": 82,
   "metadata": {
    "scrolled": true
   },
   "outputs": [
    {
     "name": "stdout",
     "output_type": "stream",
     "text": [
      "(1001,)\n",
      "['i', 'know']\n",
      "['ich', 'weiß']\n"
     ]
    }
   ],
   "source": [
    "# Read file containing english and german translations\n",
    "data = text_processing.load_doc(\"./dataset/ENG_to_GER.txt\")\n",
    "\n",
    "# Split data into english and german\n",
    "english_sentences, german_sentences = text_processing.prepare_data(data)\n",
    "\n",
    "# Check and print number of sentences from one language to the other\n",
    "assert(len(english_sentences) == len(german_sentences))\n",
    "print(english_sentences.shape)\n",
    "\n",
    "# Example of sentence with translation\n",
    "print(english_sentences[18])\n",
    "print(german_sentences[18])"
   ]
  },
  {
   "cell_type": "markdown",
   "metadata": {},
   "source": [
    "### Split dataset (training + validation)"
   ]
  },
  {
   "cell_type": "code",
   "execution_count": 83,
   "metadata": {},
   "outputs": [
    {
     "name": "stdout",
     "output_type": "stream",
     "text": [
      "Training samples: 850\n",
      "Validation samples: 151\n"
     ]
    }
   ],
   "source": [
    "# Split percentage of training and validation\n",
    "split_percentage = 0.85\n",
    "\n",
    "# Count how many samples into training dataset\n",
    "total_dataset = len(english_sentences)\n",
    "train_dataset = int(total_dataset * split_percentage)\n",
    "\n",
    "# Set random seed to have always same training and validation split\n",
    "np.random.seed(42)\n",
    "train_indices = np.random.choice(total_dataset, train_dataset, replace=False)\n",
    "\n",
    "# Get training data for the two languages\n",
    "training_english = english_sentences[train_indices]\n",
    "training_german = german_sentences[train_indices]\n",
    "\n",
    "# Get validation data\n",
    "validation_english = np.delete(english_sentences, train_indices)\n",
    "validation_german = np.delete(german_sentences, train_indices)\n",
    "\n",
    "print(\"Training samples: \" + str(training_english.shape[0]))\n",
    "print(\"Validation samples: \" + str(validation_english.shape[0]))\n",
    "\n",
    "# Reset seed for randomness\n",
    "np.random.seed()"
   ]
  },
  {
   "cell_type": "markdown",
   "metadata": {},
   "source": [
    "### Create dictionaries for the two languages"
   ]
  },
  {
   "cell_type": "code",
   "execution_count": 84,
   "metadata": {},
   "outputs": [
    {
     "name": "stdout",
     "output_type": "stream",
     "text": [
      "Longest sentence in English has 4 tokens.\n",
      "Longest sentence in German has 9 tokens.\n",
      "\n",
      "English dictionary size: 573\n",
      "German dictionary size: 722\n"
     ]
    }
   ],
   "source": [
    "# Calculate longest sentence in the two languages\n",
    "english_max_length = text_processing.max_length_sentence(training_english)\n",
    "german_max_length = text_processing.max_length_sentence(training_german) + 2  # + 2 because of <START> and <END> the beginning\n",
    "\n",
    "print(\"Longest sentence in English has \" + str(english_max_length) + \" tokens.\")\n",
    "print(\"Longest sentence in German has \" + str(german_max_length) + \" tokens.\")\n",
    "print()\n",
    "\n",
    "# Create dictionaries\n",
    "english_dictionary = dictionary.LanguageDictionary(training_english, english_max_length)\n",
    "german_dictionary = dictionary.LanguageDictionary(training_german, german_max_length)\n",
    "\n",
    "# Calculate size of the dictionaries\n",
    "english_dictionary_size = len(english_dictionary.index_to_word)\n",
    "german_dictionary_size = len(german_dictionary.index_to_word)\n",
    "\n",
    "print(\"English dictionary size: \" + str(english_dictionary_size))\n",
    "print(\"German dictionary size: \" + str(german_dictionary_size))\n",
    "\n",
    "# Save dictionaries\n",
    "text_processing.save_dump(english_dictionary, \"./dumps/eng_dict.pickle\")\n",
    "text_processing.save_dump(german_dictionary, \"./dumps/ger_dict.pickle\")"
   ]
  },
  {
   "cell_type": "markdown",
   "metadata": {},
   "source": [
    "### Prepare sequences for the Neural Network"
   ]
  },
  {
   "cell_type": "code",
   "execution_count": 85,
   "metadata": {},
   "outputs": [
    {
     "name": "stdout",
     "output_type": "stream",
     "text": [
      "Training samples : 850\n",
      "(850, 4)\n",
      "(850, 9)\n",
      "Validation samples : 151\n",
      "(151, 4)\n",
      "(151, 9)\n"
     ]
    }
   ],
   "source": [
    "# Prepare sequences of training data\n",
    "train_source_input, train_target_input = text_processing.prepare_sequences(training_english, \n",
    "                                                                       training_german, \n",
    "                                                                       english_dictionary, \n",
    "                                                                       german_dictionary)\n",
    "\n",
    "# Prepare sequences of validation data\n",
    "val_source_input, val_target_input = text_processing.prepare_sequences(validation_english, \n",
    "                                                                       validation_german, \n",
    "                                                                       english_dictionary, \n",
    "                                                                       german_dictionary)\n",
    "\n",
    "# Check if same number of samples\n",
    "assert(len(train_source_input) == len(train_target_input))\n",
    "assert(len(val_source_input) == len(val_target_input))\n",
    "\n",
    "# Print shapes data\n",
    "print(\"Training samples : \" + str(len(train_source_input)))\n",
    "print(train_source_input.shape)\n",
    "print(train_target_input.shape)\n",
    "\n",
    "print(\"Validation samples : \" + str(len(val_source_input)))\n",
    "print(val_source_input.shape)\n",
    "print(val_target_input.shape)"
   ]
  },
  {
   "cell_type": "markdown",
   "metadata": {},
   "source": [
    "### Print sample input data in English, German and next word to be predicted in German"
   ]
  },
  {
   "cell_type": "code",
   "execution_count": 42,
   "metadata": {},
   "outputs": [
    {
     "name": "stdout",
     "output_type": "stream",
     "text": [
      "[ 0  0  0  0  0  0  0 18 28  8 43 44 45 46 47]\n",
      "[ 1 17 47 48 49 50  2  0  0  0  0  0  0  0  0  0  0]\n",
      "SOURCE => <PAD> <PAD> <PAD> <PAD> <PAD> <PAD> <PAD> i was a prison warden for ten years\n",
      "TARGET => <START> ich war zehn jahre gefängnisdirektor <END> <PAD> <PAD> <PAD> <PAD> <PAD> <PAD> <PAD> <PAD> <PAD> <PAD>\n"
     ]
    }
   ],
   "source": [
    "sample_sentence_index = 7\n",
    "print(train_source_input[sample_sentence_index])\n",
    "print(train_target_input[sample_sentence_index])\n",
    "\n",
    "print(\"SOURCE => \" + english_dictionary.indices_to_text(train_source_input[sample_sentence_index]))\n",
    "print(\"TARGET => \" + german_dictionary.indices_to_text(train_target_input[sample_sentence_index]))"
   ]
  },
  {
   "cell_type": "markdown",
   "metadata": {},
   "source": [
    "## Neural Network"
   ]
  },
  {
   "cell_type": "markdown",
   "metadata": {},
   "source": [
    "### Parameters"
   ]
  },
  {
   "cell_type": "code",
   "execution_count": 43,
   "metadata": {},
   "outputs": [],
   "source": [
    "epochs = 150\n",
    "batch_size = 128\n",
    "embedding_size = 256\n",
    "lstm_hidden_units = 64\n",
    "lr = 1e-3\n",
    "depth_lstm_bidirectional_layers = 2\n",
    "keep_dropout_prob = 0.7"
   ]
  },
  {
   "cell_type": "markdown",
   "metadata": {},
   "source": [
    "### Create Seq2seq neural network graph"
   ]
  },
  {
   "cell_type": "code",
   "execution_count": 44,
   "metadata": {},
   "outputs": [
    {
     "name": "stdout",
     "output_type": "stream",
     "text": [
      "Tensor(\"encoder/concat:0\", shape=(?, 15, 128), dtype=float32)\n",
      "Tensor(\"decoder/ExpandDims:0\", shape=(?, 16, 1, 128), dtype=float32)\n",
      "Tensor(\"decoder/dense/BiasAdd:0\", shape=(?, 16, 15, 32), dtype=float32)\n",
      "Tensor(\"decoder/dense_1/BiasAdd:0\", shape=(?, 16, 1, 32), dtype=float32)\n",
      "Tensor(\"decoder/Tanh:0\", shape=(?, 16, 15, 32), dtype=float32)\n",
      "Tensor(\"decoder/dense_2/BiasAdd:0\", shape=(?, 16, 15, 1), dtype=float32)\n",
      "Tensor(\"decoder/transpose_1:0\", shape=(?, 16, 15, 1), dtype=float32)\n",
      "Tensor(\"decoder/Sum:0\", shape=(?, 16, 128), dtype=float32)\n",
      "Tensor(\"decoder/embedding_lookup/Identity:0\", shape=(?, ?, 256), dtype=float32)\n",
      "Tensor(\"decoder/concat_2:0\", shape=(?, 16, 384), dtype=float32)\n",
      "Tensor(\"decoder/rnn/transpose_1:0\", shape=(?, 16, 128), dtype=float32)\n",
      "Tensor(\"dense/BiasAdd:0\", shape=(?, 16, 20897), dtype=float32)\n"
     ]
    }
   ],
   "source": [
    "tf.reset_default_graph()\n",
    "\n",
    "# Placeholders\n",
    "input_sequence = tf.placeholder(tf.int32, (None, english_dictionary.max_length_sentence), 'inputs')\n",
    "output_sequence = tf.placeholder(tf.int32, (None, None), 'output')\n",
    "target_labels = tf.placeholder(tf.int32, (None, None), 'targets')\n",
    "input_keep_prob = tf.placeholder(tf.float32, (None), 'dropout_input')\n",
    "output_keep_prob = tf.placeholder(tf.float32, (None), 'dropout_output')\n",
    "\n",
    "decoder_outputs_tensor = tf.placeholder(tf.float32, (None, german_dictionary.max_length_sentence-1, \n",
    "                                                     lstm_hidden_units * 2), 'output')\n",
    "# Create graph for the network\n",
    "logits, dec_output = neural_network.create_network(input_sequence, \n",
    "                                                   output_sequence, \n",
    "                                                   input_keep_prob,\n",
    "                                                   output_keep_prob,\n",
    "                                                   decoder_outputs_tensor,\n",
    "                                                   english_dictionary_size, \n",
    "                                                   german_dictionary_size, \n",
    "                                                   embedding_size,\n",
    "                                                   lstm_hidden_units,\n",
    "                                                   depth_lstm_bidirectional_layers)"
   ]
  },
  {
   "cell_type": "markdown",
   "metadata": {},
   "source": [
    "### Set the loss function, optimizer and other useful tensors"
   ]
  },
  {
   "cell_type": "code",
   "execution_count": 47,
   "metadata": {},
   "outputs": [],
   "source": [
    "# Cross entropy loss after softmax of logits\n",
    "ce = tf.nn.sparse_softmax_cross_entropy_with_logits(logits=logits, labels=target_labels)\n",
    "loss = tf.reduce_mean(ce)\n",
    "\n",
    "# Using Adam optimizer for the update of the weights of the network with gradient clipping\n",
    "optimizer = tf.train.AdamOptimizer(learning_rate=lr) #.minimize(loss)\n",
    "gradients, variables = zip(*optimizer.compute_gradients(loss))\n",
    "gradients, _ = tf.clip_by_global_norm(gradients, 5.0)\n",
    "optimize = optimizer.apply_gradients(zip(gradients, variables))\n",
    "\n",
    "# Useful tensors\n",
    "scores = tf.nn.softmax(logits)\n",
    "predictions = tf.to_int32(tf.argmax(scores, axis=2))\n",
    "correct_mask = tf.to_float(tf.equal(predictions, target_labels))\n",
    "accuracy = tf.reduce_mean(tf.reduce_mean(tf.cast(correct_mask, tf.float32), axis=1))"
   ]
  },
  {
   "cell_type": "code",
   "execution_count": 48,
   "metadata": {},
   "outputs": [],
   "source": [
    "def get_decoder_outputs(batch_size, target_length, hidden_size, source, target_in):\n",
    "    \n",
    "    # Feature multiply by two because of bidirectional lstm\n",
    "    first_output = np.zeros((batch_size, target_length, 2 * hidden_size))\n",
    "    for i in range(target_length-1):\n",
    "\n",
    "        fgg = sess.run(dec_output, feed_dict={\n",
    "            input_sequence: source,\n",
    "            output_sequence: target_in,\n",
    "            decoder_outputs_tensor: first_output,\n",
    "            input_keep_prob: keep_dropout_prob,\n",
    "            output_keep_prob: keep_dropout_prob,\n",
    "        })\n",
    "        first_output[:,i+1] = fgg[:,i]\n",
    "        \n",
    "    return first_output"
   ]
  },
  {
   "cell_type": "code",
   "execution_count": 79,
   "metadata": {},
   "outputs": [
    {
     "data": {
      "text/plain": [
       "'I am too lazy'"
      ]
     },
     "execution_count": 79,
     "metadata": {},
     "output_type": "execute_result"
    }
   ],
   "source": [
    "text_processing.expand_contractions(\"I'm too lazy\", text_processing.CONTRACTION_MAP)"
   ]
  },
  {
   "cell_type": "markdown",
   "metadata": {},
   "source": [
    "### Training of the network"
   ]
  },
  {
   "cell_type": "code",
   "execution_count": 53,
   "metadata": {
    "scrolled": true
   },
   "outputs": [
    {
     "name": "stdout",
     "output_type": "stream",
     "text": [
      "Training iterations per epoch: 664\n",
      "INFO:tensorflow:Restoring parameters from ./checkpoints/model.ckpt\n",
      "Loss: 0.45138484, Accuracy: 0.9013672\n",
      "VALIDATION loss: 0.9191307, accuracy: 0.8478691\n",
      "Loss: 0.54206717, Accuracy: 0.8779297\n",
      "VALIDATION loss: 0.91770816, accuracy: 0.8480026\n",
      "Loss: 0.47122952, Accuracy: 0.8984375\n",
      "VALIDATION loss: 0.91445756, accuracy: 0.84900844\n",
      "Loss: 0.45513254, Accuracy: 0.9008789\n",
      "Training epoch: 1, AVG loss: 0.5059279, AVG accuracy: 0.88730913\n",
      "\n",
      "Loss: 0.5291971, Accuracy: 0.8769531\n",
      "Loss: 0.46325433, Accuracy: 0.8930664\n",
      "Loss: 0.41858846, Accuracy: 0.9038086\n",
      "VALIDATION loss: 0.9137248, accuracy: 0.84956765\n",
      "Loss: 0.4998668, Accuracy: 0.89208984\n",
      "VALIDATION loss: 0.91090304, accuracy: 0.85015607\n",
      "Training epoch: 2, AVG loss: 0.4806807, AVG accuracy: 0.8922799\n",
      "\n",
      "Loss: 0.44311807, Accuracy: 0.8964844\n",
      "Loss: 0.5029229, Accuracy: 0.88720703\n",
      "VALIDATION loss: 0.9130948, accuracy: 0.8501686\n",
      "Loss: 0.42629218, Accuracy: 0.9033203\n",
      "VALIDATION loss: 0.9124548, accuracy: 0.8501978\n",
      "Loss: 0.4963043, Accuracy: 0.88671875\n",
      "VALIDATION loss: 0.9095575, accuracy: 0.85080296\n",
      "Training epoch: 3, AVG loss: 0.45828432, AVG accuracy: 0.8962221\n",
      "\n",
      "Loss: 0.4607386, Accuracy: 0.89453125\n",
      "Loss: 0.43162477, Accuracy: 0.8979492\n",
      "VALIDATION loss: 0.912137, accuracy: 0.85089475\n",
      "Loss: 0.40688068, Accuracy: 0.9121094\n",
      "VALIDATION loss: 0.91138554, accuracy: 0.8514832\n",
      "Loss: 0.4449135, Accuracy: 0.89941406\n",
      "Training epoch: 4, AVG loss: 0.4387184, AVG accuracy: 0.90003777\n",
      "\n",
      "Loss: 0.46368778, Accuracy: 0.89697266\n",
      "Loss: 0.32262984, Accuracy: 0.9248047\n",
      "Loss: 0.42040098, Accuracy: 0.9003906\n",
      "VALIDATION loss: 0.9140192, accuracy: 0.85158336\n",
      "Loss: 0.38399133, Accuracy: 0.9057617\n",
      "VALIDATION loss: 0.9108708, accuracy: 0.85253906\n",
      "Training epoch: 5, AVG loss: 0.421454, AVG accuracy: 0.903222\n",
      "\n",
      "Loss: 0.3968519, Accuracy: 0.9086914\n",
      "Loss: 0.40137625, Accuracy: 0.90722656\n",
      "Loss: 0.42203334, Accuracy: 0.89697266\n",
      "Loss: 0.35874736, Accuracy: 0.9165039\n",
      "Training epoch: 6, AVG loss: 0.4060077, AVG accuracy: 0.9060962\n",
      "\n",
      "Loss: 0.3895095, Accuracy: 0.91308594\n",
      "Loss: 0.41136944, Accuracy: 0.90234375\n",
      "Loss: 0.46706358, Accuracy: 0.90185547\n",
      "Loss: 0.39911032, Accuracy: 0.89990234\n",
      "Training epoch: 7, AVG loss: 0.39111775, AVG accuracy: 0.9089037\n",
      "\n",
      "Loss: 0.3525533, Accuracy: 0.9145508\n",
      "VALIDATION loss: 0.917123, accuracy: 0.85273105\n",
      "Loss: 0.424596, Accuracy: 0.90283203\n",
      "VALIDATION loss: 0.9177565, accuracy: 0.85302734\n",
      "Loss: 0.3699525, Accuracy: 0.9111328\n",
      "Loss: 0.42509955, Accuracy: 0.90283203\n",
      "Training epoch: 8, AVG loss: 0.3774401, AVG accuracy: 0.91135967\n",
      "\n",
      "Loss: 0.41341248, Accuracy: 0.8979492\n",
      "Loss: 0.3485068, Accuracy: 0.9169922\n",
      "Loss: 0.3732545, Accuracy: 0.9091797\n",
      "Loss: 0.30281568, Accuracy: 0.9277344\n",
      "VALIDATION loss: 0.9212402, accuracy: 0.853403\n",
      "Training epoch: 9, AVG loss: 0.36518362, AVG accuracy: 0.91394234\n",
      "\n",
      "Loss: 0.38927612, Accuracy: 0.9145508\n",
      "Loss: 0.3701002, Accuracy: 0.9057617\n",
      "Loss: 0.39488065, Accuracy: 0.90771484\n",
      "Loss: 0.4435529, Accuracy: 0.88916016\n",
      "VALIDATION loss: 0.92404705, accuracy: 0.8538328\n",
      "Training epoch: 10, AVG loss: 0.35449305, AVG accuracy: 0.91589665\n",
      "\n",
      "Loss: 0.31921178, Accuracy: 0.9194336\n",
      "Loss: 0.35759193, Accuracy: 0.9145508\n",
      "Loss: 0.35206252, Accuracy: 0.91552734\n",
      "Loss: 0.34110606, Accuracy: 0.91015625\n",
      "Training epoch: 11, AVG loss: 0.34399074, AVG accuracy: 0.9180581\n",
      "\n",
      "Loss: 0.27545893, Accuracy: 0.93603516\n",
      "Loss: 0.36589405, Accuracy: 0.9194336\n"
     ]
    },
    {
     "ename": "KeyboardInterrupt",
     "evalue": "",
     "output_type": "error",
     "traceback": [
      "\u001b[0;31m---------------------------------------------------------------------------\u001b[0m",
      "\u001b[0;31mKeyboardInterrupt\u001b[0m                         Traceback (most recent call last)",
      "\u001b[0;32m<ipython-input-53-810e777495da>\u001b[0m in \u001b[0;36m<module>\u001b[0;34m()\u001b[0m\n\u001b[1;32m     43\u001b[0m                                               \u001b[0mlstm_hidden_units\u001b[0m\u001b[0;34m,\u001b[0m\u001b[0;34m\u001b[0m\u001b[0m\n\u001b[1;32m     44\u001b[0m                                               \u001b[0mtrain_source_input\u001b[0m\u001b[0;34m[\u001b[0m\u001b[0mstart_index\u001b[0m\u001b[0;34m:\u001b[0m\u001b[0mend_index\u001b[0m\u001b[0;34m]\u001b[0m\u001b[0;34m,\u001b[0m\u001b[0;34m\u001b[0m\u001b[0m\n\u001b[0;32m---> 45\u001b[0;31m                                               train_target_input[start_index:end_index, :-1])\n\u001b[0m\u001b[1;32m     46\u001b[0m \u001b[0;34m\u001b[0m\u001b[0m\n\u001b[1;32m     47\u001b[0m             _, avg_accuracy, avg_loss = sess.run([optimize, accuracy, loss], feed_dict={\n",
      "\u001b[0;32m<ipython-input-48-9a2b93446247>\u001b[0m in \u001b[0;36mget_decoder_outputs\u001b[0;34m(batch_size, target_length, hidden_size, source, target_in)\u001b[0m\n\u001b[1;32m     10\u001b[0m             \u001b[0mdecoder_outputs_tensor\u001b[0m\u001b[0;34m:\u001b[0m \u001b[0mfirst_output\u001b[0m\u001b[0;34m,\u001b[0m\u001b[0;34m\u001b[0m\u001b[0m\n\u001b[1;32m     11\u001b[0m             \u001b[0minput_keep_prob\u001b[0m\u001b[0;34m:\u001b[0m \u001b[0mkeep_dropout_prob\u001b[0m\u001b[0;34m,\u001b[0m\u001b[0;34m\u001b[0m\u001b[0m\n\u001b[0;32m---> 12\u001b[0;31m             \u001b[0moutput_keep_prob\u001b[0m\u001b[0;34m:\u001b[0m \u001b[0mkeep_dropout_prob\u001b[0m\u001b[0;34m,\u001b[0m\u001b[0;34m\u001b[0m\u001b[0m\n\u001b[0m\u001b[1;32m     13\u001b[0m         })\n\u001b[1;32m     14\u001b[0m         \u001b[0mfirst_output\u001b[0m\u001b[0;34m[\u001b[0m\u001b[0;34m:\u001b[0m\u001b[0;34m,\u001b[0m\u001b[0mi\u001b[0m\u001b[0;34m+\u001b[0m\u001b[0;36m1\u001b[0m\u001b[0;34m]\u001b[0m \u001b[0;34m=\u001b[0m \u001b[0mfgg\u001b[0m\u001b[0;34m[\u001b[0m\u001b[0;34m:\u001b[0m\u001b[0;34m,\u001b[0m\u001b[0mi\u001b[0m\u001b[0;34m]\u001b[0m\u001b[0;34m\u001b[0m\u001b[0m\n",
      "\u001b[0;32m~/anaconda3/lib/python3.6/site-packages/tensorflow/python/client/session.py\u001b[0m in \u001b[0;36mrun\u001b[0;34m(self, fetches, feed_dict, options, run_metadata)\u001b[0m\n\u001b[1;32m    885\u001b[0m     \u001b[0;32mtry\u001b[0m\u001b[0;34m:\u001b[0m\u001b[0;34m\u001b[0m\u001b[0m\n\u001b[1;32m    886\u001b[0m       result = self._run(None, fetches, feed_dict, options_ptr,\n\u001b[0;32m--> 887\u001b[0;31m                          run_metadata_ptr)\n\u001b[0m\u001b[1;32m    888\u001b[0m       \u001b[0;32mif\u001b[0m \u001b[0mrun_metadata\u001b[0m\u001b[0;34m:\u001b[0m\u001b[0;34m\u001b[0m\u001b[0m\n\u001b[1;32m    889\u001b[0m         \u001b[0mproto_data\u001b[0m \u001b[0;34m=\u001b[0m \u001b[0mtf_session\u001b[0m\u001b[0;34m.\u001b[0m\u001b[0mTF_GetBuffer\u001b[0m\u001b[0;34m(\u001b[0m\u001b[0mrun_metadata_ptr\u001b[0m\u001b[0;34m)\u001b[0m\u001b[0;34m\u001b[0m\u001b[0m\n",
      "\u001b[0;32m~/anaconda3/lib/python3.6/site-packages/tensorflow/python/client/session.py\u001b[0m in \u001b[0;36m_run\u001b[0;34m(self, handle, fetches, feed_dict, options, run_metadata)\u001b[0m\n\u001b[1;32m   1108\u001b[0m     \u001b[0;32mif\u001b[0m \u001b[0mfinal_fetches\u001b[0m \u001b[0;32mor\u001b[0m \u001b[0mfinal_targets\u001b[0m \u001b[0;32mor\u001b[0m \u001b[0;34m(\u001b[0m\u001b[0mhandle\u001b[0m \u001b[0;32mand\u001b[0m \u001b[0mfeed_dict_tensor\u001b[0m\u001b[0;34m)\u001b[0m\u001b[0;34m:\u001b[0m\u001b[0;34m\u001b[0m\u001b[0m\n\u001b[1;32m   1109\u001b[0m       results = self._do_run(handle, final_targets, final_fetches,\n\u001b[0;32m-> 1110\u001b[0;31m                              feed_dict_tensor, options, run_metadata)\n\u001b[0m\u001b[1;32m   1111\u001b[0m     \u001b[0;32melse\u001b[0m\u001b[0;34m:\u001b[0m\u001b[0;34m\u001b[0m\u001b[0m\n\u001b[1;32m   1112\u001b[0m       \u001b[0mresults\u001b[0m \u001b[0;34m=\u001b[0m \u001b[0;34m[\u001b[0m\u001b[0;34m]\u001b[0m\u001b[0;34m\u001b[0m\u001b[0m\n",
      "\u001b[0;32m~/anaconda3/lib/python3.6/site-packages/tensorflow/python/client/session.py\u001b[0m in \u001b[0;36m_do_run\u001b[0;34m(self, handle, target_list, fetch_list, feed_dict, options, run_metadata)\u001b[0m\n\u001b[1;32m   1284\u001b[0m     \u001b[0;32mif\u001b[0m \u001b[0mhandle\u001b[0m \u001b[0;32mis\u001b[0m \u001b[0;32mNone\u001b[0m\u001b[0;34m:\u001b[0m\u001b[0;34m\u001b[0m\u001b[0m\n\u001b[1;32m   1285\u001b[0m       return self._do_call(_run_fn, feeds, fetches, targets, options,\n\u001b[0;32m-> 1286\u001b[0;31m                            run_metadata)\n\u001b[0m\u001b[1;32m   1287\u001b[0m     \u001b[0;32melse\u001b[0m\u001b[0;34m:\u001b[0m\u001b[0;34m\u001b[0m\u001b[0m\n\u001b[1;32m   1288\u001b[0m       \u001b[0;32mreturn\u001b[0m \u001b[0mself\u001b[0m\u001b[0;34m.\u001b[0m\u001b[0m_do_call\u001b[0m\u001b[0;34m(\u001b[0m\u001b[0m_prun_fn\u001b[0m\u001b[0;34m,\u001b[0m \u001b[0mhandle\u001b[0m\u001b[0;34m,\u001b[0m \u001b[0mfeeds\u001b[0m\u001b[0;34m,\u001b[0m \u001b[0mfetches\u001b[0m\u001b[0;34m)\u001b[0m\u001b[0;34m\u001b[0m\u001b[0m\n",
      "\u001b[0;32m~/anaconda3/lib/python3.6/site-packages/tensorflow/python/client/session.py\u001b[0m in \u001b[0;36m_do_call\u001b[0;34m(self, fn, *args)\u001b[0m\n\u001b[1;32m   1290\u001b[0m   \u001b[0;32mdef\u001b[0m \u001b[0m_do_call\u001b[0m\u001b[0;34m(\u001b[0m\u001b[0mself\u001b[0m\u001b[0;34m,\u001b[0m \u001b[0mfn\u001b[0m\u001b[0;34m,\u001b[0m \u001b[0;34m*\u001b[0m\u001b[0margs\u001b[0m\u001b[0;34m)\u001b[0m\u001b[0;34m:\u001b[0m\u001b[0;34m\u001b[0m\u001b[0m\n\u001b[1;32m   1291\u001b[0m     \u001b[0;32mtry\u001b[0m\u001b[0;34m:\u001b[0m\u001b[0;34m\u001b[0m\u001b[0m\n\u001b[0;32m-> 1292\u001b[0;31m       \u001b[0;32mreturn\u001b[0m \u001b[0mfn\u001b[0m\u001b[0;34m(\u001b[0m\u001b[0;34m*\u001b[0m\u001b[0margs\u001b[0m\u001b[0;34m)\u001b[0m\u001b[0;34m\u001b[0m\u001b[0m\n\u001b[0m\u001b[1;32m   1293\u001b[0m     \u001b[0;32mexcept\u001b[0m \u001b[0merrors\u001b[0m\u001b[0;34m.\u001b[0m\u001b[0mOpError\u001b[0m \u001b[0;32mas\u001b[0m \u001b[0me\u001b[0m\u001b[0;34m:\u001b[0m\u001b[0;34m\u001b[0m\u001b[0m\n\u001b[1;32m   1294\u001b[0m       \u001b[0mmessage\u001b[0m \u001b[0;34m=\u001b[0m \u001b[0mcompat\u001b[0m\u001b[0;34m.\u001b[0m\u001b[0mas_text\u001b[0m\u001b[0;34m(\u001b[0m\u001b[0me\u001b[0m\u001b[0;34m.\u001b[0m\u001b[0mmessage\u001b[0m\u001b[0;34m)\u001b[0m\u001b[0;34m\u001b[0m\u001b[0m\n",
      "\u001b[0;32m~/anaconda3/lib/python3.6/site-packages/tensorflow/python/client/session.py\u001b[0m in \u001b[0;36m_run_fn\u001b[0;34m(feed_dict, fetch_list, target_list, options, run_metadata)\u001b[0m\n\u001b[1;32m   1275\u001b[0m       \u001b[0mself\u001b[0m\u001b[0;34m.\u001b[0m\u001b[0m_extend_graph\u001b[0m\u001b[0;34m(\u001b[0m\u001b[0;34m)\u001b[0m\u001b[0;34m\u001b[0m\u001b[0m\n\u001b[1;32m   1276\u001b[0m       return self._call_tf_sessionrun(\n\u001b[0;32m-> 1277\u001b[0;31m           options, feed_dict, fetch_list, target_list, run_metadata)\n\u001b[0m\u001b[1;32m   1278\u001b[0m \u001b[0;34m\u001b[0m\u001b[0m\n\u001b[1;32m   1279\u001b[0m     \u001b[0;32mdef\u001b[0m \u001b[0m_prun_fn\u001b[0m\u001b[0;34m(\u001b[0m\u001b[0mhandle\u001b[0m\u001b[0;34m,\u001b[0m \u001b[0mfeed_dict\u001b[0m\u001b[0;34m,\u001b[0m \u001b[0mfetch_list\u001b[0m\u001b[0;34m)\u001b[0m\u001b[0;34m:\u001b[0m\u001b[0;34m\u001b[0m\u001b[0m\n",
      "\u001b[0;32m~/anaconda3/lib/python3.6/site-packages/tensorflow/python/client/session.py\u001b[0m in \u001b[0;36m_call_tf_sessionrun\u001b[0;34m(self, options, feed_dict, fetch_list, target_list, run_metadata)\u001b[0m\n\u001b[1;32m   1365\u001b[0m     return tf_session.TF_SessionRun_wrapper(\n\u001b[1;32m   1366\u001b[0m         \u001b[0mself\u001b[0m\u001b[0;34m.\u001b[0m\u001b[0m_session\u001b[0m\u001b[0;34m,\u001b[0m \u001b[0moptions\u001b[0m\u001b[0;34m,\u001b[0m \u001b[0mfeed_dict\u001b[0m\u001b[0;34m,\u001b[0m \u001b[0mfetch_list\u001b[0m\u001b[0;34m,\u001b[0m \u001b[0mtarget_list\u001b[0m\u001b[0;34m,\u001b[0m\u001b[0;34m\u001b[0m\u001b[0m\n\u001b[0;32m-> 1367\u001b[0;31m         run_metadata)\n\u001b[0m\u001b[1;32m   1368\u001b[0m \u001b[0;34m\u001b[0m\u001b[0m\n\u001b[1;32m   1369\u001b[0m   \u001b[0;32mdef\u001b[0m \u001b[0m_call_tf_sessionprun\u001b[0m\u001b[0;34m(\u001b[0m\u001b[0mself\u001b[0m\u001b[0;34m,\u001b[0m \u001b[0mhandle\u001b[0m\u001b[0;34m,\u001b[0m \u001b[0mfeed_dict\u001b[0m\u001b[0;34m,\u001b[0m \u001b[0mfetch_list\u001b[0m\u001b[0;34m)\u001b[0m\u001b[0;34m:\u001b[0m\u001b[0;34m\u001b[0m\u001b[0m\n",
      "\u001b[0;31mKeyboardInterrupt\u001b[0m: "
     ]
    }
   ],
   "source": [
    "# Training data variables\n",
    "iterations_training = max((len(train_source_input) // batch_size), 1)\n",
    "print(\"Training iterations per epoch: \" + str(iterations_training))\n",
    "training_overfit = False\n",
    "consecutive_validation_without_saving = 0\n",
    "\n",
    "# Validation data variables\n",
    "max_val_acc = 0\n",
    "iterations_validation = max((len(val_source_input) // batch_size), 1)\n",
    "\n",
    "# Before each epoch, shuffle training dataset\n",
    "indices = list(range(len(train_source_input)))\n",
    "\n",
    "with tf.Session() as sess:\n",
    "    \n",
    "    # Initialize variables in the graph\n",
    "    saver = tf.train.Saver()\n",
    "    sess.run(tf.global_variables_initializer())\n",
    "    \n",
    "    # Iterate over epochs\n",
    "    for i in range(epochs):\n",
    "        \n",
    "        # Shuffle data (with random seed for debug) to not train the network always with the same order\n",
    "        np.random.seed(42)\n",
    "        np.random.shuffle(indices)\n",
    "        train_source_input = train_source_input[indices]\n",
    "        train_target_input = train_target_input[indices]\n",
    "        \n",
    "        # Vector accumulating accuracy and loss during for one epoch\n",
    "        total_accuracies, total_losses = [], []\n",
    "\n",
    "        # Iterate over mini-batches\n",
    "        for j in range(iterations_training):\n",
    "            start_index = j * batch_size\n",
    "            end_index = (j + 1) * batch_size \n",
    "            \n",
    "            # If last batch, take also elements that are less than batch_size\n",
    "            if j == (iterations_training - 1):\n",
    "                end_index += (batch_size - 1)\n",
    "                \n",
    "            dec_out_tmp = get_decoder_outputs(len(train_source_input[start_index:end_index]), \n",
    "                                              german_dictionary.max_length_sentence - 1, \n",
    "                                              lstm_hidden_units,\n",
    "                                              train_source_input[start_index:end_index],\n",
    "                                              train_target_input[start_index:end_index, :-1])\n",
    "\n",
    "            _, avg_accuracy, avg_loss = sess.run([optimize, accuracy, loss], feed_dict={\n",
    "                                                input_sequence: train_source_input[start_index:end_index],\n",
    "                                                output_sequence: train_target_input[start_index:end_index, :-1],\n",
    "                                                target_labels: train_target_input[start_index:end_index, 1:],\n",
    "                                                input_keep_prob: keep_dropout_prob,\n",
    "                                                output_keep_prob: keep_dropout_prob,\n",
    "                                                decoder_outputs_tensor: dec_out_tmp })\n",
    "            \n",
    "            # Add values for this mini-batch iterations\n",
    "            total_losses.append(avg_loss) \n",
    "            total_accuracies.append(avg_accuracy)\n",
    "\n",
    "            # Print loss and accuracy\n",
    "            if (j+1) % 150 == 0:\n",
    "                print(\"Loss: \" + str(avg_loss) + \", Accuracy: \" + str(avg_accuracy))\n",
    "\n",
    "            # Statistics on validation set\n",
    "            if (j+1) % 150 == 0:\n",
    "                \n",
    "                # Accumulate validation statistics\n",
    "                val_accuracies, val_losses = [], []\n",
    "\n",
    "                # Iterate over mini-batches\n",
    "                for k in range(iterations_validation):\n",
    "                    start_index = k * batch_size\n",
    "                    end_index = (k + 1) * batch_size \n",
    "                    \n",
    "                    if j == (iterations_validation - 1):\n",
    "                        end_index += (batch_size - 1)\n",
    "                    \n",
    "                    dec_out_tmp = get_decoder_outputs(len(val_source_input[start_index:end_index]), \n",
    "                                                      german_dictionary.max_length_sentence - 1, \n",
    "                                                      lstm_hidden_units,\n",
    "                                                      val_source_input[start_index:end_index],\n",
    "                                                      val_target_input[start_index:end_index, :-1])\n",
    "                    \n",
    "                    avg_accuracy, avg_loss = sess.run([accuracy, loss], feed_dict={\n",
    "                                            input_sequence: val_source_input[start_index:end_index],\n",
    "                                            output_sequence: val_target_input[start_index:end_index, :-1],\n",
    "                                            target_labels: val_target_input[start_index:end_index, 1:],\n",
    "                                            input_keep_prob: 1.0,\n",
    "                                            output_keep_prob: 1.0,\n",
    "                                            decoder_outputs_tensor: dec_out_tmp })                    \n",
    "                    \n",
    "                    # Statistics over the mini-batch\n",
    "                    val_losses.append(avg_loss) \n",
    "                    val_accuracies.append(avg_accuracy)\n",
    "            \n",
    "                # Average validation accuracy over batches\n",
    "                final_val_accuracy = np.mean(val_accuracies)\n",
    "                \n",
    "                # Save model if validation accuracy better\n",
    "                if final_val_accuracy > max_val_acc:\n",
    "                    consecutive_validation_without_saving = 0\n",
    "                    max_val_acc = final_val_accuracy\n",
    "                    print(\"VALIDATION loss: \" + str(np.mean(val_losses)) + \", accuracy: \" + str(final_val_accuracy))\n",
    "                    save_path = saver.save(sess, \"./checkpoints/model.ckpt\")\n",
    "                else:\n",
    "                    # Count every time check validation accuracy\n",
    "                    consecutive_validation_without_saving += 1\n",
    "                \n",
    "                # If checked validation time many consecutive times without having improvement in accuracy\n",
    "                if consecutive_validation_without_saving >= 30:\n",
    "                    training_overfit = True\n",
    "\n",
    "        # Epoch statistics\n",
    "        print(\"Training epoch: \" + str(i+1) + \", AVG loss: \" + str(np.mean(np.array(total_losses))) + \n",
    "              \", AVG accuracy: \" + str(np.mean(np.array(total_accuracies))) + \"\\n\")\n",
    "        \n",
    "        if training_overfit:\n",
    "            print(\"Early stopping training because it starts overfitting\")\n",
    "            break"
   ]
  },
  {
   "cell_type": "markdown",
   "metadata": {},
   "source": [
    "## Testing network"
   ]
  },
  {
   "cell_type": "markdown",
   "metadata": {},
   "source": [
    "### Rebuild graph quickly if want to run only this part of the notebook"
   ]
  },
  {
   "cell_type": "code",
   "execution_count": 28,
   "metadata": {},
   "outputs": [
    {
     "name": "stdout",
     "output_type": "stream",
     "text": [
      "Tensor(\"encoder/concat:0\", shape=(?, 4, 128), dtype=float32)\n",
      "Tensor(\"decoder/ExpandDims:0\", shape=(?, 8, 1, 128), dtype=float32)\n",
      "Tensor(\"decoder/dense/BiasAdd:0\", shape=(?, 8, 4, 32), dtype=float32)\n",
      "Tensor(\"decoder/dense_1/BiasAdd:0\", shape=(?, 8, 1, 32), dtype=float32)\n",
      "Tensor(\"decoder/Tanh:0\", shape=(?, 8, 4, 32), dtype=float32)\n",
      "Tensor(\"decoder/dense_2/BiasAdd:0\", shape=(?, 8, 4, 1), dtype=float32)\n",
      "Tensor(\"decoder/transpose_1:0\", shape=(?, 8, 4, 1), dtype=float32)\n",
      "Tensor(\"decoder/Sum:0\", shape=(?, 8, 128), dtype=float32)\n",
      "Tensor(\"decoder/embedding_lookup/Identity:0\", shape=(?, ?, 256), dtype=float32)\n",
      "Tensor(\"decoder/concat_2:0\", shape=(?, 8, 384), dtype=float32)\n",
      "Tensor(\"decoder/rnn/transpose_1:0\", shape=(?, 8, 128), dtype=float32)\n",
      "Tensor(\"dense/BiasAdd:0\", shape=(?, 8, 403), dtype=float32)\n"
     ]
    }
   ],
   "source": [
    "# Load dictionaries from pickle\n",
    "english_dictionary = text_processing.load_dump(\"./dumps/eng_dict.pickle\")\n",
    "german_dictionary = text_processing.load_dump(\"./dumps/ger_dict.pickle\")\n",
    "\n",
    "tf.reset_default_graph()\n",
    "\n",
    "# Placeholders\n",
    "input_sequence = tf.placeholder(tf.int32, (None, english_dictionary.max_length_sentence), 'inputs')\n",
    "output_sequence = tf.placeholder(tf.int32, (None, None), 'output')\n",
    "target_labels = tf.placeholder(tf.int32, (None, None), 'targets')\n",
    "input_keep_prob = tf.placeholder(tf.float32, (None), 'dropout_input')\n",
    "output_keep_prob = tf.placeholder(tf.float32, (None), 'dropout_output')\n",
    "\n",
    "decoder_outputs_tensor = tf.placeholder(tf.float32, (None, german_dictionary.max_length_sentence-1, \n",
    "                                                     lstm_hidden_units * 2), 'output')\n",
    "\n",
    "# Create graph for the network\n",
    "logits, dec_output = neural_network.create_network(input_sequence, \n",
    "                                                   output_sequence, \n",
    "                                                   input_keep_prob,\n",
    "                                                   output_keep_prob,\n",
    "                                                   decoder_outputs_tensor,\n",
    "                                                   len(english_dictionary.index_to_word), \n",
    "                                                   len(german_dictionary.index_to_word), \n",
    "                                                   embedding_size,\n",
    "                                                   lstm_hidden_units,\n",
    "                                                   depth_lstm_bidirectional_layers)\n",
    "# Predictions\n",
    "scores = tf.nn.softmax(logits)\n",
    "predictions = tf.to_int32(tf.argmax(scores, axis=2))"
   ]
  },
  {
   "cell_type": "markdown",
   "metadata": {},
   "source": [
    "### Perform test predictions"
   ]
  },
  {
   "cell_type": "code",
   "execution_count": 73,
   "metadata": {
    "scrolled": false
   },
   "outputs": [
    {
     "name": "stdout",
     "output_type": "stream",
     "text": [
      "INFO:tensorflow:Restoring parameters from ./checkpoints/model.ckpt\n",
      "<PAD> <PAD> <PAD> <PAD> <PAD> <PAD> <PAD> <PAD> <PAD> <PAD> <PAD> <PAD> an easy example => <START> ein einfaches beispiel <END>\n"
     ]
    }
   ],
   "source": [
    "# TF variables\n",
    "init = tf.global_variables_initializer()\n",
    "saver = tf.train.Saver()\n",
    "\n",
    "with tf.Session() as sess:\n",
    "    sess.run(init)\n",
    "    saver.restore(sess, \"./checkpoints/model.ckpt\") \n",
    "\n",
    "    test_source_sentence = [\"an easy example\"]\n",
    "    #test_source_sentence = validation_english\n",
    "\n",
    "    for source_sentence in test_source_sentence:\n",
    "\n",
    "        # ONLY IF VALIDATION ENGLISH DATASET USED (DEBUG)\n",
    "        #source_sentence = \" \".join(source_sentence)\n",
    "\n",
    "        # Normalize & tokenize (cut if longer than max_length_source)  \n",
    "        source_preprocessed = text_processing.preprocess_sentence(source_sentence)\n",
    "        \n",
    "        # Convert to numbers\n",
    "        source_encoded = english_dictionary.text_to_indices(source_preprocessed)\n",
    "        \n",
    "        # Add padding\n",
    "        source_input = text_processing.pad_sentence(source_encoded, english_dictionary.max_length_sentence)\n",
    "        #print(english_dictionary.indices_to_text(source_input))\n",
    "        \n",
    "        # Starting target sentence in German\n",
    "        target_sentence = [[\"<START>\"]]\n",
    "        target_encoded = german_dictionary.text_to_indices(target_sentence[0])\n",
    "\n",
    "        i = 0\n",
    "        word_predicted = 0\n",
    "        while word_predicted != 2: # If <END> (index 2), stop\n",
    "            \n",
    "            target_encoded_pad = text_processing.pad_sentence(target_encoded, \n",
    "                                                          german_dictionary.max_length_sentence - 1, \n",
    "                                                           pad_before=False)\n",
    "\n",
    "            dec_out_tmp = get_decoder_outputs(1, \n",
    "                                              german_dictionary.max_length_sentence - 1, \n",
    "                                              lstm_hidden_units,\n",
    "                                              [source_input],\n",
    "                                              [target_encoded_pad])\n",
    "        \n",
    "            # Perform prediction\n",
    "            pred = sess.run(predictions, feed_dict={input_sequence: [source_input], \n",
    "                                                    output_sequence: [target_encoded_pad],\n",
    "                                                    input_keep_prob: 1.0,\n",
    "                                                    output_keep_prob: 1.0,\n",
    "                                                    decoder_outputs_tensor: dec_out_tmp })\n",
    "            \n",
    "            # Accumulate\n",
    "            target_encoded.append(pred[0][i])\n",
    "            word_predicted = pred[0][i]\n",
    "            \n",
    "            if i > german_dictionary.max_length_sentence:\n",
    "                break\n",
    "            i += 1\n",
    "\n",
    "        print(english_dictionary.indices_to_text(source_input) + \" => \"\n",
    "              + german_dictionary.indices_to_text(target_encoded))"
   ]
  }
 ],
 "metadata": {
  "kernelspec": {
   "display_name": "Python 3",
   "language": "python",
   "name": "python3"
  },
  "language_info": {
   "codemirror_mode": {
    "name": "ipython",
    "version": 3
   },
   "file_extension": ".py",
   "mimetype": "text/x-python",
   "name": "python",
   "nbconvert_exporter": "python",
   "pygments_lexer": "ipython3",
   "version": "3.6.4"
  }
 },
 "nbformat": 4,
 "nbformat_minor": 2
}
